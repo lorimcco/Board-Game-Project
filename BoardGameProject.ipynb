{
 "cells": [
  {
   "cell_type": "markdown",
   "id": "3e446317-c332-4fab-961d-4c2ccd7521ee",
   "metadata": {},
   "source": [
    "# Board Game Ratings Project"
   ]
  },
  {
   "cell_type": "markdown",
   "id": "1db1a106-2929-4475-a093-611040bd2f8d",
   "metadata": {},
   "source": [
    "## Introduction to the Dataset\n",
    "This dataset contains data on board games from the BoardGameGeek (BGG) [website](https://boardgamegeek.com/) from February 2021. BoardGameGeek is an online community dedicated to board games and card games. It has over 2 million registered members who can contribute game ratings, reviews, images, and videos.\n",
    "\n",
    "The dataset contains the following information on over 20,000 board games:\n",
    "- ID: game id number assigned by BGG\n",
    "- Name: title of game\n",
    "- Year Published: year the game was first published\n",
    "- Min Players: recommended minimum number of players\n",
    "- Max Players: recommended maximum number of players\n",
    "- Play Time: average time to play the game\n",
    "- Min Age: minimum recommended age for the game\n",
    "- Users Rated: number of BGG users who rated the game\n",
    "- Rating Average: average rating on a scale of 1-10\n",
    "- BGG Rank: BGG ranking\n",
    "- Complexity Average: average complexity rating on a scale from 1 (light) to 5 (heavy)\n",
    "- Owned Users: number of BGG users who say they own the game\n",
    "- Mechanics: game mechanics, suggested by BGG users\n",
    "- Domains: game type, suggested by BGG users\n",
    "\n",
    "Members submit board game details to the BoardGameGeek database. Many of the fields above are submitted in this process, including Name, Year Published, Min Players, Max Players, Play Time, Min Age, and Mechanics. Most of these fields are not required in the submission, so there may be missing values in the dataset. BGG members can rate any game in the database on a scale of 1-10. These ratings are aggregated to produce the Rating Average, BGG Rank, and Users Rated fields. A game is given a rank only if it has at least 30 user ratings. Unranked games are not included in this dataset. BGG members can optionally say whether they own a game (Owned Users), rate a game's complexity on a scale of 1-5 (Complexity Average), and vote on a game's domain. A game is only assigned a domain once at least 5 members have voted on it and the domain(s) with over 30% of the votes are shown.\n",
    "\n",
    "I found this dataset on [Kaggle](https://www.kaggle.com/andrewmvd/board-games). The original author is Dilini Samarasinghe, July 5, 2021, [\"BoardGameGeek Dataset on Board Games\"](https://ieee-dataport.org/open-access/boardgamegeek-dataset-board-games), IEEE Dataport."
   ]
  },
  {
   "cell_type": "markdown",
   "id": "b28100bb-7faf-4211-9ddf-13704b4fe703",
   "metadata": {},
   "source": [
    "## Data Question"
   ]
  },
  {
   "cell_type": "markdown",
   "id": "0a827a91-ae55-4aad-8b23-727e1a4772bf",
   "metadata": {},
   "source": [
    "I'm interested in characteristics of high-rated games. I would like to know if there are certain characteristics (e.g. mechanics, domains, play time, complexity rating) that are more common in games with a high rating.\n",
    "\n",
    "**Question: Can we predict a board game's BoardGameGeek rating based on its characteristics?**\n",
    "\n",
    "**Hypothesis:** I am doubtful that there will be a strong correlation between a game's characteristics and its BGG rating, because there are so many factors that go into making a good game. Also there are many differing tastes and opinions on games, so I think it will be difficult to draw a clear relationship. (For example, some players love very complex games; for others, high complexity would make them give the game a low rating.) However, there may be some characteristics that have a weak correlation with the BGG rating and I'm interested in seeing what they may be!\n",
    "\n",
    "The conclusions of this project will be useful to board game creators and producers as they consider the characteristics that influence a game's popularity. Board game enthusiasts (especially members of the BoardGameGeek community) will also be interested in the results of this analysis."
   ]
  },
  {
   "cell_type": "markdown",
   "id": "53d5f1fa-0636-449f-98be-b99eb8dadc9d",
   "metadata": {},
   "source": [
    "## Overview of the Data and Data Cleaning"
   ]
  },
  {
   "cell_type": "code",
   "execution_count": 1,
   "id": "2a13f333-76f4-479f-b170-99a5cf1027ad",
   "metadata": {},
   "outputs": [],
   "source": [
    "# Import libraries\n",
    "import numpy as np\n",
    "import pandas as pd\n",
    "import seaborn as sns\n",
    "import matplotlib.pyplot as plt\n",
    "import statsmodels.api as sm\n",
    "from collections import Counter\n",
    "import copy"
   ]
  },
  {
   "cell_type": "markdown",
   "id": "d020ecf0-da11-4443-82b4-c5de1d1c69e2",
   "metadata": {
    "tags": []
   },
   "source": [
    "#### Load the data"
   ]
  },
  {
   "cell_type": "code",
   "execution_count": 2,
   "id": "7bdcb250-9941-4943-87ee-7ed8cfb53521",
   "metadata": {},
   "outputs": [
    {
     "data": {
      "text/html": [
       "<div>\n",
       "<style scoped>\n",
       "    .dataframe tbody tr th:only-of-type {\n",
       "        vertical-align: middle;\n",
       "    }\n",
       "\n",
       "    .dataframe tbody tr th {\n",
       "        vertical-align: top;\n",
       "    }\n",
       "\n",
       "    .dataframe thead th {\n",
       "        text-align: right;\n",
       "    }\n",
       "</style>\n",
       "<table border=\"1\" class=\"dataframe\">\n",
       "  <thead>\n",
       "    <tr style=\"text-align: right;\">\n",
       "      <th></th>\n",
       "      <th>ID</th>\n",
       "      <th>Name</th>\n",
       "      <th>Year Published</th>\n",
       "      <th>Min Players</th>\n",
       "      <th>Max Players</th>\n",
       "      <th>Play Time</th>\n",
       "      <th>Min Age</th>\n",
       "      <th>Users Rated</th>\n",
       "      <th>Rating Average</th>\n",
       "      <th>BGG Rank</th>\n",
       "      <th>Complexity Average</th>\n",
       "      <th>Owned Users</th>\n",
       "      <th>Mechanics</th>\n",
       "      <th>Domains</th>\n",
       "    </tr>\n",
       "  </thead>\n",
       "  <tbody>\n",
       "    <tr>\n",
       "      <th>0</th>\n",
       "      <td>174430.0</td>\n",
       "      <td>Gloomhaven</td>\n",
       "      <td>2017.0</td>\n",
       "      <td>1</td>\n",
       "      <td>4</td>\n",
       "      <td>120</td>\n",
       "      <td>14</td>\n",
       "      <td>42055</td>\n",
       "      <td>8.79</td>\n",
       "      <td>1</td>\n",
       "      <td>3.86</td>\n",
       "      <td>68323.0</td>\n",
       "      <td>Action Queue, Action Retrieval, Campaign / Bat...</td>\n",
       "      <td>Strategy Games, Thematic Games</td>\n",
       "    </tr>\n",
       "    <tr>\n",
       "      <th>1</th>\n",
       "      <td>161936.0</td>\n",
       "      <td>Pandemic Legacy: Season 1</td>\n",
       "      <td>2015.0</td>\n",
       "      <td>2</td>\n",
       "      <td>4</td>\n",
       "      <td>60</td>\n",
       "      <td>13</td>\n",
       "      <td>41643</td>\n",
       "      <td>8.61</td>\n",
       "      <td>2</td>\n",
       "      <td>2.84</td>\n",
       "      <td>65294.0</td>\n",
       "      <td>Action Points, Cooperative Game, Hand Manageme...</td>\n",
       "      <td>Strategy Games, Thematic Games</td>\n",
       "    </tr>\n",
       "    <tr>\n",
       "      <th>2</th>\n",
       "      <td>224517.0</td>\n",
       "      <td>Brass: Birmingham</td>\n",
       "      <td>2018.0</td>\n",
       "      <td>2</td>\n",
       "      <td>4</td>\n",
       "      <td>120</td>\n",
       "      <td>14</td>\n",
       "      <td>19217</td>\n",
       "      <td>8.66</td>\n",
       "      <td>3</td>\n",
       "      <td>3.91</td>\n",
       "      <td>28785.0</td>\n",
       "      <td>Hand Management, Income, Loans, Market, Networ...</td>\n",
       "      <td>Strategy Games</td>\n",
       "    </tr>\n",
       "    <tr>\n",
       "      <th>3</th>\n",
       "      <td>167791.0</td>\n",
       "      <td>Terraforming Mars</td>\n",
       "      <td>2016.0</td>\n",
       "      <td>1</td>\n",
       "      <td>5</td>\n",
       "      <td>120</td>\n",
       "      <td>12</td>\n",
       "      <td>64864</td>\n",
       "      <td>8.43</td>\n",
       "      <td>4</td>\n",
       "      <td>3.24</td>\n",
       "      <td>87099.0</td>\n",
       "      <td>Card Drafting, Drafting, End Game Bonuses, Han...</td>\n",
       "      <td>Strategy Games</td>\n",
       "    </tr>\n",
       "    <tr>\n",
       "      <th>4</th>\n",
       "      <td>233078.0</td>\n",
       "      <td>Twilight Imperium: Fourth Edition</td>\n",
       "      <td>2017.0</td>\n",
       "      <td>3</td>\n",
       "      <td>6</td>\n",
       "      <td>480</td>\n",
       "      <td>14</td>\n",
       "      <td>13468</td>\n",
       "      <td>8.70</td>\n",
       "      <td>5</td>\n",
       "      <td>4.22</td>\n",
       "      <td>16831.0</td>\n",
       "      <td>Action Drafting, Area Majority / Influence, Ar...</td>\n",
       "      <td>Strategy Games, Thematic Games</td>\n",
       "    </tr>\n",
       "  </tbody>\n",
       "</table>\n",
       "</div>"
      ],
      "text/plain": [
       "         ID                               Name  Year Published  Min Players  \\\n",
       "0  174430.0                         Gloomhaven          2017.0            1   \n",
       "1  161936.0          Pandemic Legacy: Season 1          2015.0            2   \n",
       "2  224517.0                  Brass: Birmingham          2018.0            2   \n",
       "3  167791.0                  Terraforming Mars          2016.0            1   \n",
       "4  233078.0  Twilight Imperium: Fourth Edition          2017.0            3   \n",
       "\n",
       "   Max Players  Play Time  Min Age  Users Rated  Rating Average  BGG Rank  \\\n",
       "0            4        120       14        42055            8.79         1   \n",
       "1            4         60       13        41643            8.61         2   \n",
       "2            4        120       14        19217            8.66         3   \n",
       "3            5        120       12        64864            8.43         4   \n",
       "4            6        480       14        13468            8.70         5   \n",
       "\n",
       "   Complexity Average  Owned Users  \\\n",
       "0                3.86      68323.0   \n",
       "1                2.84      65294.0   \n",
       "2                3.91      28785.0   \n",
       "3                3.24      87099.0   \n",
       "4                4.22      16831.0   \n",
       "\n",
       "                                           Mechanics  \\\n",
       "0  Action Queue, Action Retrieval, Campaign / Bat...   \n",
       "1  Action Points, Cooperative Game, Hand Manageme...   \n",
       "2  Hand Management, Income, Loans, Market, Networ...   \n",
       "3  Card Drafting, Drafting, End Game Bonuses, Han...   \n",
       "4  Action Drafting, Area Majority / Influence, Ar...   \n",
       "\n",
       "                          Domains  \n",
       "0  Strategy Games, Thematic Games  \n",
       "1  Strategy Games, Thematic Games  \n",
       "2                  Strategy Games  \n",
       "3                  Strategy Games  \n",
       "4  Strategy Games, Thematic Games  "
      ]
     },
     "execution_count": 2,
     "metadata": {},
     "output_type": "execute_result"
    }
   ],
   "source": [
    "# The fields in the dataset are separated by a semi-colon and the decimal numbers use a comma instead of a dot.\n",
    "df = pd.read_csv('bgg_dataset.csv', sep=';', decimal=',')\n",
    "# Take a look at the first 5 rows to see what the data looks like\n",
    "df.head(5)"
   ]
  },
  {
   "cell_type": "markdown",
   "id": "5a6bcc60",
   "metadata": {},
   "source": [
    "I won't be needing the game ID in my analysis, so I will drop that column."
   ]
  },
  {
   "cell_type": "code",
   "execution_count": 3,
   "id": "159cb245",
   "metadata": {},
   "outputs": [],
   "source": [
    "df.drop(columns=['ID'], inplace=True)"
   ]
  },
  {
   "cell_type": "markdown",
   "id": "88efb802-7daf-44cf-85a7-5329638c01d6",
   "metadata": {},
   "source": [
    "Get some information about the dataframe:"
   ]
  },
  {
   "cell_type": "code",
   "execution_count": 4,
   "id": "1f199138-16be-47c4-9c7d-b9b30f487363",
   "metadata": {},
   "outputs": [
    {
     "name": "stdout",
     "output_type": "stream",
     "text": [
      "<class 'pandas.core.frame.DataFrame'>\n",
      "RangeIndex: 20343 entries, 0 to 20342\n",
      "Data columns (total 13 columns):\n",
      " #   Column              Non-Null Count  Dtype  \n",
      "---  ------              --------------  -----  \n",
      " 0   Name                20343 non-null  object \n",
      " 1   Year Published      20342 non-null  float64\n",
      " 2   Min Players         20343 non-null  int64  \n",
      " 3   Max Players         20343 non-null  int64  \n",
      " 4   Play Time           20343 non-null  int64  \n",
      " 5   Min Age             20343 non-null  int64  \n",
      " 6   Users Rated         20343 non-null  int64  \n",
      " 7   Rating Average      20343 non-null  float64\n",
      " 8   BGG Rank            20343 non-null  int64  \n",
      " 9   Complexity Average  20343 non-null  float64\n",
      " 10  Owned Users         20320 non-null  float64\n",
      " 11  Mechanics           18745 non-null  object \n",
      " 12  Domains             10184 non-null  object \n",
      "dtypes: float64(4), int64(6), object(3)\n",
      "memory usage: 2.0+ MB\n"
     ]
    }
   ],
   "source": [
    "df.info()"
   ]
  },
  {
   "cell_type": "markdown",
   "id": "6f26558a-fc79-4b12-89b1-5dddde43cbae",
   "metadata": {},
   "source": [
    "**Observations:**\n",
    "- There are 20,343 rows of data in this dataset and 13 columns.\n",
    "- There are many missing values in the 'Mechanics' and 'Domains' columns.\n",
    "- Games can have more than one Mechanic and Domain. These columns contain lists of all the applicable mechanics and domains for each game. In order to include this data in my analysis, I will create a column for each mechanic and domain and one hot encode the data."
   ]
  },
  {
   "cell_type": "markdown",
   "id": "edfb07c2-2c6e-4e3f-920a-7bdfe8f08cde",
   "metadata": {},
   "source": [
    "Find the number of missing values in each column."
   ]
  },
  {
   "cell_type": "code",
   "execution_count": 5,
   "id": "456461e8-c437-4609-a7d6-15edb699a45f",
   "metadata": {},
   "outputs": [
    {
     "data": {
      "text/plain": [
       "Name                      0\n",
       "Year Published            1\n",
       "Min Players               0\n",
       "Max Players               0\n",
       "Play Time                 0\n",
       "Min Age                   0\n",
       "Users Rated               0\n",
       "Rating Average            0\n",
       "BGG Rank                  0\n",
       "Complexity Average        0\n",
       "Owned Users              23\n",
       "Mechanics              1598\n",
       "Domains               10159\n",
       "dtype: int64"
      ]
     },
     "execution_count": 5,
     "metadata": {},
     "output_type": "execute_result"
    }
   ],
   "source": [
    "df.isna().sum()"
   ]
  },
  {
   "cell_type": "markdown",
   "id": "98a04522-093d-4605-b0af-9c2490340fe1",
   "metadata": {},
   "source": [
    "There are a *lot* of missing values in the mechanics and domains columns. Nearly half the games don't have a domain, likely because domains are assigned by optional voting and a game must receive at least 5 votes before it is assigned a domain. 'Mechanics' is an optional field that members can fill in when they submit a game to the BGG database, so it appears that quite a few of these submissions do not have any mechanics specified. **I will replace the missing values in Mechanics with 'Unspecified' and in Domains with 'Unclassified'.**"
   ]
  },
  {
   "cell_type": "code",
   "execution_count": 6,
   "id": "125a3880-f80b-438d-91c9-d2fdba465739",
   "metadata": {},
   "outputs": [],
   "source": [
    "df['Mechanics'].fillna('Unspecified', inplace=True)\n",
    "df['Domains'].fillna('Unclassified', inplace=True)"
   ]
  },
  {
   "cell_type": "markdown",
   "id": "d31dc85e",
   "metadata": {},
   "source": [
    "## Exploratory Data Analysis"
   ]
  },
  {
   "cell_type": "markdown",
   "id": "78e9d5e5-5640-410a-b3e4-4b3da370af15",
   "metadata": {},
   "source": [
    "### Summary Statistics"
   ]
  },
  {
   "cell_type": "markdown",
   "id": "f68d4ccf-1f03-4153-9e91-ea3dbef3297e",
   "metadata": {},
   "source": [
    "I will begin my exploratory analysis with a look at the summary statistics for each numerical column."
   ]
  },
  {
   "cell_type": "code",
   "execution_count": 7,
   "id": "ce707c7d-51cb-4bde-a4d6-ea116e5c26f1",
   "metadata": {},
   "outputs": [
    {
     "data": {
      "text/html": [
       "<div>\n",
       "<style scoped>\n",
       "    .dataframe tbody tr th:only-of-type {\n",
       "        vertical-align: middle;\n",
       "    }\n",
       "\n",
       "    .dataframe tbody tr th {\n",
       "        vertical-align: top;\n",
       "    }\n",
       "\n",
       "    .dataframe thead th {\n",
       "        text-align: right;\n",
       "    }\n",
       "</style>\n",
       "<table border=\"1\" class=\"dataframe\">\n",
       "  <thead>\n",
       "    <tr style=\"text-align: right;\">\n",
       "      <th></th>\n",
       "      <th>Year Published</th>\n",
       "      <th>Min Players</th>\n",
       "      <th>Max Players</th>\n",
       "      <th>Play Time</th>\n",
       "      <th>Min Age</th>\n",
       "      <th>Users Rated</th>\n",
       "      <th>Rating Average</th>\n",
       "      <th>BGG Rank</th>\n",
       "      <th>Complexity Average</th>\n",
       "      <th>Owned Users</th>\n",
       "    </tr>\n",
       "  </thead>\n",
       "  <tbody>\n",
       "    <tr>\n",
       "      <th>count</th>\n",
       "      <td>20342.00</td>\n",
       "      <td>20343.00</td>\n",
       "      <td>20343.00</td>\n",
       "      <td>20343.00</td>\n",
       "      <td>20343.00</td>\n",
       "      <td>20343.00</td>\n",
       "      <td>20343.00</td>\n",
       "      <td>20343.00</td>\n",
       "      <td>20343.00</td>\n",
       "      <td>20320.00</td>\n",
       "    </tr>\n",
       "    <tr>\n",
       "      <th>mean</th>\n",
       "      <td>1984.25</td>\n",
       "      <td>2.02</td>\n",
       "      <td>5.67</td>\n",
       "      <td>91.29</td>\n",
       "      <td>9.60</td>\n",
       "      <td>840.97</td>\n",
       "      <td>6.40</td>\n",
       "      <td>10172.89</td>\n",
       "      <td>1.99</td>\n",
       "      <td>1408.46</td>\n",
       "    </tr>\n",
       "    <tr>\n",
       "      <th>std</th>\n",
       "      <td>214.00</td>\n",
       "      <td>0.69</td>\n",
       "      <td>15.23</td>\n",
       "      <td>545.45</td>\n",
       "      <td>3.65</td>\n",
       "      <td>3511.56</td>\n",
       "      <td>0.94</td>\n",
       "      <td>5872.83</td>\n",
       "      <td>0.85</td>\n",
       "      <td>5040.18</td>\n",
       "    </tr>\n",
       "    <tr>\n",
       "      <th>min</th>\n",
       "      <td>-3500.00</td>\n",
       "      <td>0.00</td>\n",
       "      <td>0.00</td>\n",
       "      <td>0.00</td>\n",
       "      <td>0.00</td>\n",
       "      <td>30.00</td>\n",
       "      <td>1.05</td>\n",
       "      <td>1.00</td>\n",
       "      <td>0.00</td>\n",
       "      <td>0.00</td>\n",
       "    </tr>\n",
       "    <tr>\n",
       "      <th>25%</th>\n",
       "      <td>2001.00</td>\n",
       "      <td>2.00</td>\n",
       "      <td>4.00</td>\n",
       "      <td>30.00</td>\n",
       "      <td>8.00</td>\n",
       "      <td>55.00</td>\n",
       "      <td>5.82</td>\n",
       "      <td>5087.50</td>\n",
       "      <td>1.33</td>\n",
       "      <td>146.00</td>\n",
       "    </tr>\n",
       "    <tr>\n",
       "      <th>50%</th>\n",
       "      <td>2011.00</td>\n",
       "      <td>2.00</td>\n",
       "      <td>4.00</td>\n",
       "      <td>45.00</td>\n",
       "      <td>10.00</td>\n",
       "      <td>120.00</td>\n",
       "      <td>6.43</td>\n",
       "      <td>10173.00</td>\n",
       "      <td>1.97</td>\n",
       "      <td>309.00</td>\n",
       "    </tr>\n",
       "    <tr>\n",
       "      <th>75%</th>\n",
       "      <td>2016.00</td>\n",
       "      <td>2.00</td>\n",
       "      <td>6.00</td>\n",
       "      <td>90.00</td>\n",
       "      <td>12.00</td>\n",
       "      <td>385.00</td>\n",
       "      <td>7.03</td>\n",
       "      <td>15258.50</td>\n",
       "      <td>2.54</td>\n",
       "      <td>864.00</td>\n",
       "    </tr>\n",
       "    <tr>\n",
       "      <th>max</th>\n",
       "      <td>2022.00</td>\n",
       "      <td>10.00</td>\n",
       "      <td>999.00</td>\n",
       "      <td>60000.00</td>\n",
       "      <td>25.00</td>\n",
       "      <td>102214.00</td>\n",
       "      <td>9.58</td>\n",
       "      <td>20344.00</td>\n",
       "      <td>5.00</td>\n",
       "      <td>155312.00</td>\n",
       "    </tr>\n",
       "  </tbody>\n",
       "</table>\n",
       "</div>"
      ],
      "text/plain": [
       "       Year Published  Min Players  Max Players  Play Time   Min Age  \\\n",
       "count        20342.00     20343.00     20343.00   20343.00  20343.00   \n",
       "mean          1984.25         2.02         5.67      91.29      9.60   \n",
       "std            214.00         0.69        15.23     545.45      3.65   \n",
       "min          -3500.00         0.00         0.00       0.00      0.00   \n",
       "25%           2001.00         2.00         4.00      30.00      8.00   \n",
       "50%           2011.00         2.00         4.00      45.00     10.00   \n",
       "75%           2016.00         2.00         6.00      90.00     12.00   \n",
       "max           2022.00        10.00       999.00   60000.00     25.00   \n",
       "\n",
       "       Users Rated  Rating Average  BGG Rank  Complexity Average  Owned Users  \n",
       "count     20343.00        20343.00  20343.00            20343.00     20320.00  \n",
       "mean        840.97            6.40  10172.89                1.99      1408.46  \n",
       "std        3511.56            0.94   5872.83                0.85      5040.18  \n",
       "min          30.00            1.05      1.00                0.00         0.00  \n",
       "25%          55.00            5.82   5087.50                1.33       146.00  \n",
       "50%         120.00            6.43  10173.00                1.97       309.00  \n",
       "75%         385.00            7.03  15258.50                2.54       864.00  \n",
       "max      102214.00            9.58  20344.00                5.00    155312.00  "
      ]
     },
     "execution_count": 7,
     "metadata": {},
     "output_type": "execute_result"
    }
   ],
   "source": [
    "round(df.describe(),2)"
   ]
  },
  {
   "cell_type": "markdown",
   "id": "c0108686-f978-4fba-b749-dfe40cdc90c5",
   "metadata": {},
   "source": [
    "#### Issues with Summary Statistics:"
   ]
  },
  {
   "cell_type": "markdown",
   "id": "b5590693-e538-44fc-853b-e6cbf60f91ff",
   "metadata": {
    "tags": []
   },
   "source": [
    "**Issue 1:**\n",
    "Some of the mins don't make sense: Min and Max Players, Play Time, Min Age, and Complexity Average shouldn't have a minimum of 0.  I suspect that these columns have 0s in place of missing values. \n",
    "\n",
    "Check how many 0s there are in each of the columns:"
   ]
  },
  {
   "cell_type": "code",
   "execution_count": 8,
   "id": "d032e5d5-6905-42c4-80ad-896867b87ceb",
   "metadata": {
    "tags": []
   },
   "outputs": [
    {
     "data": {
      "text/plain": [
       "Name                     0\n",
       "Year Published         185\n",
       "Min Players             46\n",
       "Max Players            161\n",
       "Play Time              556\n",
       "Min Age               1251\n",
       "Users Rated              0\n",
       "Rating Average           0\n",
       "BGG Rank                 0\n",
       "Complexity Average     426\n",
       "Owned Users              1\n",
       "Mechanics                0\n",
       "Domains                  0\n",
       "dtype: int64"
      ]
     },
     "execution_count": 8,
     "metadata": {},
     "output_type": "execute_result"
    }
   ],
   "source": [
    "(df == 0).sum(axis=0)"
   ]
  },
  {
   "cell_type": "markdown",
   "id": "2c6411e2-9647-4c61-8f88-b5807a6b2c12",
   "metadata": {},
   "source": [
    "Min Age has the highest number of 0s, at 6.1% of the data. I will replace the 0s in these columns with NaN."
   ]
  },
  {
   "cell_type": "code",
   "execution_count": 9,
   "id": "edaa8c52",
   "metadata": {},
   "outputs": [],
   "source": [
    "cols = ['Year Published', 'Min Players', 'Max Players', 'Play Time', 'Min Age', 'Complexity Average']\n",
    "df[cols] = df[cols].replace(0, np.nan)"
   ]
  },
  {
   "cell_type": "markdown",
   "id": "76446772-52ff-4be9-bffe-8c2d51e5d66a",
   "metadata": {},
   "source": [
    "Summary statistics again with the 0s removed:"
   ]
  },
  {
   "cell_type": "code",
   "execution_count": 10,
   "id": "d27a0aac-7a4e-4f2a-93a1-693def3d448c",
   "metadata": {
    "tags": []
   },
   "outputs": [
    {
     "data": {
      "text/html": [
       "<div>\n",
       "<style scoped>\n",
       "    .dataframe tbody tr th:only-of-type {\n",
       "        vertical-align: middle;\n",
       "    }\n",
       "\n",
       "    .dataframe tbody tr th {\n",
       "        vertical-align: top;\n",
       "    }\n",
       "\n",
       "    .dataframe thead th {\n",
       "        text-align: right;\n",
       "    }\n",
       "</style>\n",
       "<table border=\"1\" class=\"dataframe\">\n",
       "  <thead>\n",
       "    <tr style=\"text-align: right;\">\n",
       "      <th></th>\n",
       "      <th>Year Published</th>\n",
       "      <th>Min Players</th>\n",
       "      <th>Max Players</th>\n",
       "      <th>Play Time</th>\n",
       "      <th>Min Age</th>\n",
       "      <th>Users Rated</th>\n",
       "      <th>Rating Average</th>\n",
       "      <th>BGG Rank</th>\n",
       "      <th>Complexity Average</th>\n",
       "      <th>Owned Users</th>\n",
       "    </tr>\n",
       "  </thead>\n",
       "  <tbody>\n",
       "    <tr>\n",
       "      <th>count</th>\n",
       "      <td>20157.00</td>\n",
       "      <td>20297.00</td>\n",
       "      <td>20182.00</td>\n",
       "      <td>19787.00</td>\n",
       "      <td>19092.00</td>\n",
       "      <td>20343.00</td>\n",
       "      <td>20343.00</td>\n",
       "      <td>20343.00</td>\n",
       "      <td>19917.00</td>\n",
       "      <td>20320.00</td>\n",
       "    </tr>\n",
       "    <tr>\n",
       "      <th>mean</th>\n",
       "      <td>2002.46</td>\n",
       "      <td>2.02</td>\n",
       "      <td>5.72</td>\n",
       "      <td>93.86</td>\n",
       "      <td>10.23</td>\n",
       "      <td>840.97</td>\n",
       "      <td>6.40</td>\n",
       "      <td>10172.89</td>\n",
       "      <td>2.03</td>\n",
       "      <td>1408.46</td>\n",
       "    </tr>\n",
       "    <tr>\n",
       "      <th>std</th>\n",
       "      <td>98.73</td>\n",
       "      <td>0.68</td>\n",
       "      <td>15.28</td>\n",
       "      <td>552.84</td>\n",
       "      <td>2.78</td>\n",
       "      <td>3511.56</td>\n",
       "      <td>0.94</td>\n",
       "      <td>5872.83</td>\n",
       "      <td>0.81</td>\n",
       "      <td>5040.18</td>\n",
       "    </tr>\n",
       "    <tr>\n",
       "      <th>min</th>\n",
       "      <td>-3500.00</td>\n",
       "      <td>1.00</td>\n",
       "      <td>1.00</td>\n",
       "      <td>1.00</td>\n",
       "      <td>1.00</td>\n",
       "      <td>30.00</td>\n",
       "      <td>1.05</td>\n",
       "      <td>1.00</td>\n",
       "      <td>1.00</td>\n",
       "      <td>0.00</td>\n",
       "    </tr>\n",
       "    <tr>\n",
       "      <th>25%</th>\n",
       "      <td>2001.00</td>\n",
       "      <td>2.00</td>\n",
       "      <td>4.00</td>\n",
       "      <td>30.00</td>\n",
       "      <td>8.00</td>\n",
       "      <td>55.00</td>\n",
       "      <td>5.82</td>\n",
       "      <td>5087.50</td>\n",
       "      <td>1.33</td>\n",
       "      <td>146.00</td>\n",
       "    </tr>\n",
       "    <tr>\n",
       "      <th>50%</th>\n",
       "      <td>2011.00</td>\n",
       "      <td>2.00</td>\n",
       "      <td>4.00</td>\n",
       "      <td>45.00</td>\n",
       "      <td>10.00</td>\n",
       "      <td>120.00</td>\n",
       "      <td>6.43</td>\n",
       "      <td>10173.00</td>\n",
       "      <td>2.00</td>\n",
       "      <td>309.00</td>\n",
       "    </tr>\n",
       "    <tr>\n",
       "      <th>75%</th>\n",
       "      <td>2016.00</td>\n",
       "      <td>2.00</td>\n",
       "      <td>6.00</td>\n",
       "      <td>90.00</td>\n",
       "      <td>12.00</td>\n",
       "      <td>385.00</td>\n",
       "      <td>7.03</td>\n",
       "      <td>15258.50</td>\n",
       "      <td>2.57</td>\n",
       "      <td>864.00</td>\n",
       "    </tr>\n",
       "    <tr>\n",
       "      <th>max</th>\n",
       "      <td>2022.00</td>\n",
       "      <td>10.00</td>\n",
       "      <td>999.00</td>\n",
       "      <td>60000.00</td>\n",
       "      <td>25.00</td>\n",
       "      <td>102214.00</td>\n",
       "      <td>9.58</td>\n",
       "      <td>20344.00</td>\n",
       "      <td>5.00</td>\n",
       "      <td>155312.00</td>\n",
       "    </tr>\n",
       "  </tbody>\n",
       "</table>\n",
       "</div>"
      ],
      "text/plain": [
       "       Year Published  Min Players  Max Players  Play Time   Min Age  \\\n",
       "count        20157.00     20297.00     20182.00   19787.00  19092.00   \n",
       "mean          2002.46         2.02         5.72      93.86     10.23   \n",
       "std             98.73         0.68        15.28     552.84      2.78   \n",
       "min          -3500.00         1.00         1.00       1.00      1.00   \n",
       "25%           2001.00         2.00         4.00      30.00      8.00   \n",
       "50%           2011.00         2.00         4.00      45.00     10.00   \n",
       "75%           2016.00         2.00         6.00      90.00     12.00   \n",
       "max           2022.00        10.00       999.00   60000.00     25.00   \n",
       "\n",
       "       Users Rated  Rating Average  BGG Rank  Complexity Average  Owned Users  \n",
       "count     20343.00        20343.00  20343.00            19917.00     20320.00  \n",
       "mean        840.97            6.40  10172.89                2.03      1408.46  \n",
       "std        3511.56            0.94   5872.83                0.81      5040.18  \n",
       "min          30.00            1.05      1.00                1.00         0.00  \n",
       "25%          55.00            5.82   5087.50                1.33       146.00  \n",
       "50%         120.00            6.43  10173.00                2.00       309.00  \n",
       "75%         385.00            7.03  15258.50                2.57       864.00  \n",
       "max      102214.00            9.58  20344.00                5.00    155312.00  "
      ]
     },
     "execution_count": 10,
     "metadata": {},
     "output_type": "execute_result"
    }
   ],
   "source": [
    "round(df.describe(),2)"
   ]
  },
  {
   "cell_type": "markdown",
   "id": "abd202c5-54c7-4fa5-8dd6-79f5d805dbe1",
   "metadata": {},
   "source": [
    "**Issue 2:** Why are there some negative years in the 'Year Published' column?"
   ]
  },
  {
   "cell_type": "code",
   "execution_count": 11,
   "id": "c6552ee3-0061-4f2b-8bb5-7b13d0d91c21",
   "metadata": {
    "tags": []
   },
   "outputs": [
    {
     "data": {
      "text/html": [
       "<div>\n",
       "<style scoped>\n",
       "    .dataframe tbody tr th:only-of-type {\n",
       "        vertical-align: middle;\n",
       "    }\n",
       "\n",
       "    .dataframe tbody tr th {\n",
       "        vertical-align: top;\n",
       "    }\n",
       "\n",
       "    .dataframe thead th {\n",
       "        text-align: right;\n",
       "    }\n",
       "</style>\n",
       "<table border=\"1\" class=\"dataframe\">\n",
       "  <thead>\n",
       "    <tr style=\"text-align: right;\">\n",
       "      <th></th>\n",
       "      <th>Name</th>\n",
       "      <th>Year Published</th>\n",
       "      <th>Min Players</th>\n",
       "      <th>Max Players</th>\n",
       "      <th>Play Time</th>\n",
       "      <th>Min Age</th>\n",
       "      <th>Users Rated</th>\n",
       "      <th>Rating Average</th>\n",
       "      <th>BGG Rank</th>\n",
       "      <th>Complexity Average</th>\n",
       "      <th>Owned Users</th>\n",
       "      <th>Mechanics</th>\n",
       "      <th>Domains</th>\n",
       "    </tr>\n",
       "  </thead>\n",
       "  <tbody>\n",
       "    <tr>\n",
       "      <th>172</th>\n",
       "      <td>Go</td>\n",
       "      <td>-2200.0</td>\n",
       "      <td>2.0</td>\n",
       "      <td>2.0</td>\n",
       "      <td>180.0</td>\n",
       "      <td>8.0</td>\n",
       "      <td>14843</td>\n",
       "      <td>7.64</td>\n",
       "      <td>173</td>\n",
       "      <td>4.00</td>\n",
       "      <td>20398.0</td>\n",
       "      <td>Enclosure, Square Grid</td>\n",
       "      <td>Abstract Games</td>\n",
       "    </tr>\n",
       "    <tr>\n",
       "      <th>1275</th>\n",
       "      <td>Backgammon</td>\n",
       "      <td>-3000.0</td>\n",
       "      <td>2.0</td>\n",
       "      <td>2.0</td>\n",
       "      <td>30.0</td>\n",
       "      <td>8.0</td>\n",
       "      <td>11680</td>\n",
       "      <td>6.54</td>\n",
       "      <td>1276</td>\n",
       "      <td>2.02</td>\n",
       "      <td>17747.0</td>\n",
       "      <td>Advantage Token, Betting and Bluffing, Dice Ro...</td>\n",
       "      <td>Abstract Games</td>\n",
       "    </tr>\n",
       "    <tr>\n",
       "      <th>8174</th>\n",
       "      <td>Senet</td>\n",
       "      <td>-3500.0</td>\n",
       "      <td>2.0</td>\n",
       "      <td>2.0</td>\n",
       "      <td>30.0</td>\n",
       "      <td>6.0</td>\n",
       "      <td>664</td>\n",
       "      <td>5.82</td>\n",
       "      <td>8176</td>\n",
       "      <td>1.48</td>\n",
       "      <td>1343.0</td>\n",
       "      <td>Dice Rolling, Roll / Spin and Move</td>\n",
       "      <td>Abstract Games</td>\n",
       "    </tr>\n",
       "    <tr>\n",
       "      <th>8924</th>\n",
       "      <td>The Royal Game of Ur</td>\n",
       "      <td>-2600.0</td>\n",
       "      <td>2.0</td>\n",
       "      <td>2.0</td>\n",
       "      <td>30.0</td>\n",
       "      <td>10.0</td>\n",
       "      <td>549</td>\n",
       "      <td>5.90</td>\n",
       "      <td>8926</td>\n",
       "      <td>1.31</td>\n",
       "      <td>1162.0</td>\n",
       "      <td>Dice Rolling, Roll / Spin and Move, Square Gri...</td>\n",
       "      <td>Abstract Games</td>\n",
       "    </tr>\n",
       "    <tr>\n",
       "      <th>15134</th>\n",
       "      <td>Petteia</td>\n",
       "      <td>-100.0</td>\n",
       "      <td>2.0</td>\n",
       "      <td>2.0</td>\n",
       "      <td>20.0</td>\n",
       "      <td>5.0</td>\n",
       "      <td>51</td>\n",
       "      <td>6.01</td>\n",
       "      <td>15136</td>\n",
       "      <td>2.17</td>\n",
       "      <td>93.0</td>\n",
       "      <td>Action Queue, Area Majority / Influence</td>\n",
       "      <td>Abstract Games</td>\n",
       "    </tr>\n",
       "    <tr>\n",
       "      <th>19648</th>\n",
       "      <td>Three Men's Morris</td>\n",
       "      <td>-1400.0</td>\n",
       "      <td>2.0</td>\n",
       "      <td>2.0</td>\n",
       "      <td>5.0</td>\n",
       "      <td>5.0</td>\n",
       "      <td>60</td>\n",
       "      <td>4.31</td>\n",
       "      <td>19650</td>\n",
       "      <td>1.25</td>\n",
       "      <td>60.0</td>\n",
       "      <td>Pattern Building, Point to Point Movement</td>\n",
       "      <td>Abstract Games</td>\n",
       "    </tr>\n",
       "    <tr>\n",
       "      <th>20002</th>\n",
       "      <td>Nine Men's Morris</td>\n",
       "      <td>-1400.0</td>\n",
       "      <td>2.0</td>\n",
       "      <td>2.0</td>\n",
       "      <td>20.0</td>\n",
       "      <td>6.0</td>\n",
       "      <td>1310</td>\n",
       "      <td>5.36</td>\n",
       "      <td>20004</td>\n",
       "      <td>1.84</td>\n",
       "      <td>1642.0</td>\n",
       "      <td>Pattern Building, Point to Point Movement</td>\n",
       "      <td>Abstract Games</td>\n",
       "    </tr>\n",
       "    <tr>\n",
       "      <th>20219</th>\n",
       "      <td>Marbles</td>\n",
       "      <td>-3000.0</td>\n",
       "      <td>1.0</td>\n",
       "      <td>NaN</td>\n",
       "      <td>10.0</td>\n",
       "      <td>4.0</td>\n",
       "      <td>473</td>\n",
       "      <td>4.69</td>\n",
       "      <td>20221</td>\n",
       "      <td>1.10</td>\n",
       "      <td>399.0</td>\n",
       "      <td>Flicking</td>\n",
       "      <td>Children's Games</td>\n",
       "    </tr>\n",
       "    <tr>\n",
       "      <th>20341</th>\n",
       "      <td>Chutes and Ladders</td>\n",
       "      <td>-200.0</td>\n",
       "      <td>2.0</td>\n",
       "      <td>6.0</td>\n",
       "      <td>30.0</td>\n",
       "      <td>3.0</td>\n",
       "      <td>3783</td>\n",
       "      <td>2.86</td>\n",
       "      <td>20343</td>\n",
       "      <td>1.02</td>\n",
       "      <td>4400.0</td>\n",
       "      <td>Dice Rolling, Grid Movement, Race, Roll / Spin...</td>\n",
       "      <td>Children's Games</td>\n",
       "    </tr>\n",
       "    <tr>\n",
       "      <th>20342</th>\n",
       "      <td>Tic-Tac-Toe</td>\n",
       "      <td>-1300.0</td>\n",
       "      <td>2.0</td>\n",
       "      <td>2.0</td>\n",
       "      <td>1.0</td>\n",
       "      <td>4.0</td>\n",
       "      <td>3275</td>\n",
       "      <td>2.68</td>\n",
       "      <td>20344</td>\n",
       "      <td>1.16</td>\n",
       "      <td>1374.0</td>\n",
       "      <td>Paper-and-Pencil, Pattern Building</td>\n",
       "      <td>Abstract Games, Children's Games</td>\n",
       "    </tr>\n",
       "  </tbody>\n",
       "</table>\n",
       "</div>"
      ],
      "text/plain": [
       "                       Name  Year Published  Min Players  Max Players  \\\n",
       "172                      Go         -2200.0          2.0          2.0   \n",
       "1275             Backgammon         -3000.0          2.0          2.0   \n",
       "8174                  Senet         -3500.0          2.0          2.0   \n",
       "8924   The Royal Game of Ur         -2600.0          2.0          2.0   \n",
       "15134               Petteia          -100.0          2.0          2.0   \n",
       "19648    Three Men's Morris         -1400.0          2.0          2.0   \n",
       "20002     Nine Men's Morris         -1400.0          2.0          2.0   \n",
       "20219               Marbles         -3000.0          1.0          NaN   \n",
       "20341    Chutes and Ladders          -200.0          2.0          6.0   \n",
       "20342           Tic-Tac-Toe         -1300.0          2.0          2.0   \n",
       "\n",
       "       Play Time  Min Age  Users Rated  Rating Average  BGG Rank  \\\n",
       "172        180.0      8.0        14843            7.64       173   \n",
       "1275        30.0      8.0        11680            6.54      1276   \n",
       "8174        30.0      6.0          664            5.82      8176   \n",
       "8924        30.0     10.0          549            5.90      8926   \n",
       "15134       20.0      5.0           51            6.01     15136   \n",
       "19648        5.0      5.0           60            4.31     19650   \n",
       "20002       20.0      6.0         1310            5.36     20004   \n",
       "20219       10.0      4.0          473            4.69     20221   \n",
       "20341       30.0      3.0         3783            2.86     20343   \n",
       "20342        1.0      4.0         3275            2.68     20344   \n",
       "\n",
       "       Complexity Average  Owned Users  \\\n",
       "172                  4.00      20398.0   \n",
       "1275                 2.02      17747.0   \n",
       "8174                 1.48       1343.0   \n",
       "8924                 1.31       1162.0   \n",
       "15134                2.17         93.0   \n",
       "19648                1.25         60.0   \n",
       "20002                1.84       1642.0   \n",
       "20219                1.10        399.0   \n",
       "20341                1.02       4400.0   \n",
       "20342                1.16       1374.0   \n",
       "\n",
       "                                               Mechanics  \\\n",
       "172                               Enclosure, Square Grid   \n",
       "1275   Advantage Token, Betting and Bluffing, Dice Ro...   \n",
       "8174                  Dice Rolling, Roll / Spin and Move   \n",
       "8924   Dice Rolling, Roll / Spin and Move, Square Gri...   \n",
       "15134            Action Queue, Area Majority / Influence   \n",
       "19648          Pattern Building, Point to Point Movement   \n",
       "20002          Pattern Building, Point to Point Movement   \n",
       "20219                                           Flicking   \n",
       "20341  Dice Rolling, Grid Movement, Race, Roll / Spin...   \n",
       "20342                 Paper-and-Pencil, Pattern Building   \n",
       "\n",
       "                                Domains  \n",
       "172                      Abstract Games  \n",
       "1275                     Abstract Games  \n",
       "8174                     Abstract Games  \n",
       "8924                     Abstract Games  \n",
       "15134                    Abstract Games  \n",
       "19648                    Abstract Games  \n",
       "20002                    Abstract Games  \n",
       "20219                  Children's Games  \n",
       "20341                  Children's Games  \n",
       "20342  Abstract Games, Children's Games  "
      ]
     },
     "execution_count": 11,
     "metadata": {},
     "output_type": "execute_result"
    }
   ],
   "source": [
    "# Show rows with a negative 'Year Published'\n",
    "df[df['Year Published'] < 0]"
   ]
  },
  {
   "cell_type": "markdown",
   "id": "da0be3d0",
   "metadata": {},
   "source": [
    "There are 10 games listed with negative Year Published, which represent years BCE. These are ancient games, such as Go, Backgammon and Senet. Let's take a look at how the years are distributed."
   ]
  },
  {
   "cell_type": "code",
   "execution_count": 12,
   "id": "4d5f7d33-d1b0-4186-8c41-a559a10d63a4",
   "metadata": {},
   "outputs": [
    {
     "data": {
      "text/plain": [
       "<seaborn.axisgrid.FacetGrid at 0x2620973c0d0>"
      ]
     },
     "execution_count": 12,
     "metadata": {},
     "output_type": "execute_result"
    },
    {
     "data": {
      "image/png": "[encoded data removed]",
      "text/plain": [
       "<Figure size 360x360 with 1 Axes>"
      ]
     },
     "metadata": {
      "needs_background": "light"
     },
     "output_type": "display_data"
    }
   ],
   "source": [
    "sns.displot(df, x='Year Published', bins=20, color='#35193e')"
   ]
  },
  {
   "cell_type": "markdown",
   "id": "ecc80c5b",
   "metadata": {},
   "source": [
    "It's almost impossible to see anything in this histogram except games published in the last few hundred years. Let's see how many games were published since 1900."
   ]
  },
  {
   "cell_type": "code",
   "execution_count": 13,
   "id": "e04ed770-a107-4d7a-a828-b0b75791cca1",
   "metadata": {},
   "outputs": [
    {
     "data": {
      "text/plain": [
       "(20046, 13)"
      ]
     },
     "execution_count": 13,
     "metadata": {},
     "output_type": "execute_result"
    }
   ],
   "source": [
    "# Get the number of rows and columns of the data that have 'Year Published' greater or equal to 1900\n",
    "df_after_1900 = df[df['Year Published'] >= 1900]\n",
    "df_after_1900.shape"
   ]
  },
  {
   "cell_type": "markdown",
   "id": "b3d82bdb-dbfd-41fa-8b4b-d486f68c3b58",
   "metadata": {},
   "source": [
    "20,046 games out of 20,343, or 98.5% of the games were published since 1900. Here is a histogram of the games published since 1900:"
   ]
  },
  {
   "cell_type": "code",
   "execution_count": 14,
   "id": "812b21cb-03c1-4ad7-9b20-eb514a9dcdc7",
   "metadata": {},
   "outputs": [
    {
     "data": {
      "text/plain": [
       "<seaborn.axisgrid.FacetGrid at 0x262098744c0>"
      ]
     },
     "execution_count": 14,
     "metadata": {},
     "output_type": "execute_result"
    },
    {
     "data": {
      "image/png": "[encoded data removed]",
      "text/plain": [
       "<Figure size 360x360 with 1 Axes>"
      ]
     },
     "metadata": {
      "needs_background": "light"
     },
     "output_type": "display_data"
    }
   ],
   "source": [
    "sns.displot(df_after_1900, x='Year Published', bins=15, color='#35193e')"
   ]
  },
  {
   "cell_type": "markdown",
   "id": "29eff565",
   "metadata": {},
   "source": [
    "This data is negatively skewed, meaning that most of the games were published in the late 20th century and early 21st century, but there are some very far-out outliers. Because of this, I will be careful about using Year Published in my linear regression model."
   ]
  },
  {
   "cell_type": "markdown",
   "id": "846055ed-2999-45be-968f-b4e8876dbaf2",
   "metadata": {},
   "source": [
    "**Issue 3:** There is an unexpectedly large maximum value for 'Max Players': 999 players."
   ]
  },
  {
   "cell_type": "code",
   "execution_count": 15,
   "id": "65147105-8026-4ea1-9433-d4143b29d3ed",
   "metadata": {},
   "outputs": [
    {
     "data": {
      "text/html": [
       "<div>\n",
       "<style scoped>\n",
       "    .dataframe tbody tr th:only-of-type {\n",
       "        vertical-align: middle;\n",
       "    }\n",
       "\n",
       "    .dataframe tbody tr th {\n",
       "        vertical-align: top;\n",
       "    }\n",
       "\n",
       "    .dataframe thead th {\n",
       "        text-align: right;\n",
       "    }\n",
       "</style>\n",
       "<table border=\"1\" class=\"dataframe\">\n",
       "  <thead>\n",
       "    <tr style=\"text-align: right;\">\n",
       "      <th></th>\n",
       "      <th>Name</th>\n",
       "      <th>Year Published</th>\n",
       "      <th>Min Players</th>\n",
       "      <th>Max Players</th>\n",
       "      <th>Play Time</th>\n",
       "      <th>Min Age</th>\n",
       "      <th>Users Rated</th>\n",
       "      <th>Rating Average</th>\n",
       "      <th>BGG Rank</th>\n",
       "      <th>Complexity Average</th>\n",
       "      <th>Owned Users</th>\n",
       "      <th>Mechanics</th>\n",
       "      <th>Domains</th>\n",
       "    </tr>\n",
       "  </thead>\n",
       "  <tbody>\n",
       "    <tr>\n",
       "      <th>4913</th>\n",
       "      <td>Linkee!</td>\n",
       "      <td>2012.0</td>\n",
       "      <td>2.0</td>\n",
       "      <td>200.0</td>\n",
       "      <td>30.0</td>\n",
       "      <td>14.0</td>\n",
       "      <td>523</td>\n",
       "      <td>6.33</td>\n",
       "      <td>4915</td>\n",
       "      <td>1.17</td>\n",
       "      <td>1225.0</td>\n",
       "      <td>Unspecified</td>\n",
       "      <td>Unclassified</td>\n",
       "    </tr>\n",
       "    <tr>\n",
       "      <th>5820</th>\n",
       "      <td>Black Powder: Second Edition</td>\n",
       "      <td>2009.0</td>\n",
       "      <td>2.0</td>\n",
       "      <td>120.0</td>\n",
       "      <td>360.0</td>\n",
       "      <td>12.0</td>\n",
       "      <td>136</td>\n",
       "      <td>7.35</td>\n",
       "      <td>5822</td>\n",
       "      <td>2.69</td>\n",
       "      <td>345.0</td>\n",
       "      <td>Dice Rolling</td>\n",
       "      <td>Wargames</td>\n",
       "    </tr>\n",
       "    <tr>\n",
       "      <th>7025</th>\n",
       "      <td>Start Player: A Kinda Collectible Card Game</td>\n",
       "      <td>2006.0</td>\n",
       "      <td>2.0</td>\n",
       "      <td>999.0</td>\n",
       "      <td>1.0</td>\n",
       "      <td>6.0</td>\n",
       "      <td>178</td>\n",
       "      <td>6.49</td>\n",
       "      <td>7027</td>\n",
       "      <td>1.00</td>\n",
       "      <td>286.0</td>\n",
       "      <td>Unspecified</td>\n",
       "      <td>Family Games, Party Games</td>\n",
       "    </tr>\n",
       "    <tr>\n",
       "      <th>8516</th>\n",
       "      <td>I Don't Know, What Do You Want to Play?</td>\n",
       "      <td>2007.0</td>\n",
       "      <td>2.0</td>\n",
       "      <td>999.0</td>\n",
       "      <td>5.0</td>\n",
       "      <td>8.0</td>\n",
       "      <td>87</td>\n",
       "      <td>6.76</td>\n",
       "      <td>8518</td>\n",
       "      <td>1.06</td>\n",
       "      <td>117.0</td>\n",
       "      <td>Voting</td>\n",
       "      <td>Unclassified</td>\n",
       "    </tr>\n",
       "    <tr>\n",
       "      <th>9983</th>\n",
       "      <td>Alchemidus</td>\n",
       "      <td>2015.0</td>\n",
       "      <td>1.0</td>\n",
       "      <td>127.0</td>\n",
       "      <td>30.0</td>\n",
       "      <td>10.0</td>\n",
       "      <td>91</td>\n",
       "      <td>6.37</td>\n",
       "      <td>9985</td>\n",
       "      <td>1.50</td>\n",
       "      <td>131.0</td>\n",
       "      <td>Dice Rolling</td>\n",
       "      <td>Unclassified</td>\n",
       "    </tr>\n",
       "    <tr>\n",
       "      <th>10813</th>\n",
       "      <td>Scrimish Card Game</td>\n",
       "      <td>2015.0</td>\n",
       "      <td>2.0</td>\n",
       "      <td>999.0</td>\n",
       "      <td>100.0</td>\n",
       "      <td>8.0</td>\n",
       "      <td>254</td>\n",
       "      <td>5.90</td>\n",
       "      <td>10815</td>\n",
       "      <td>1.13</td>\n",
       "      <td>898.0</td>\n",
       "      <td>Memory</td>\n",
       "      <td>Unclassified</td>\n",
       "    </tr>\n",
       "    <tr>\n",
       "      <th>16539</th>\n",
       "      <td>Pit Fighter: Fantasy Arena</td>\n",
       "      <td>2006.0</td>\n",
       "      <td>2.0</td>\n",
       "      <td>163.0</td>\n",
       "      <td>30.0</td>\n",
       "      <td>8.0</td>\n",
       "      <td>45</td>\n",
       "      <td>5.57</td>\n",
       "      <td>16541</td>\n",
       "      <td>1.80</td>\n",
       "      <td>204.0</td>\n",
       "      <td>Campaign / Battle Card Driven, Hexagon Grid</td>\n",
       "      <td>Wargames</td>\n",
       "    </tr>\n",
       "    <tr>\n",
       "      <th>18781</th>\n",
       "      <td>The Hammer of Thor: The Game of Norse Mythology</td>\n",
       "      <td>1980.0</td>\n",
       "      <td>1.0</td>\n",
       "      <td>362.0</td>\n",
       "      <td>120.0</td>\n",
       "      <td>12.0</td>\n",
       "      <td>60</td>\n",
       "      <td>4.95</td>\n",
       "      <td>18783</td>\n",
       "      <td>3.50</td>\n",
       "      <td>179.0</td>\n",
       "      <td>Dice Rolling, Events, Paper-and-Pencil, Role P...</td>\n",
       "      <td>Unclassified</td>\n",
       "    </tr>\n",
       "  </tbody>\n",
       "</table>\n",
       "</div>"
      ],
      "text/plain": [
       "                                                  Name  Year Published  \\\n",
       "4913                                           Linkee!          2012.0   \n",
       "5820                      Black Powder: Second Edition          2009.0   \n",
       "7025       Start Player: A Kinda Collectible Card Game          2006.0   \n",
       "8516           I Don't Know, What Do You Want to Play?          2007.0   \n",
       "9983                                        Alchemidus          2015.0   \n",
       "10813                               Scrimish Card Game          2015.0   \n",
       "16539                       Pit Fighter: Fantasy Arena          2006.0   \n",
       "18781  The Hammer of Thor: The Game of Norse Mythology          1980.0   \n",
       "\n",
       "       Min Players  Max Players  Play Time  Min Age  Users Rated  \\\n",
       "4913           2.0        200.0       30.0     14.0          523   \n",
       "5820           2.0        120.0      360.0     12.0          136   \n",
       "7025           2.0        999.0        1.0      6.0          178   \n",
       "8516           2.0        999.0        5.0      8.0           87   \n",
       "9983           1.0        127.0       30.0     10.0           91   \n",
       "10813          2.0        999.0      100.0      8.0          254   \n",
       "16539          2.0        163.0       30.0      8.0           45   \n",
       "18781          1.0        362.0      120.0     12.0           60   \n",
       "\n",
       "       Rating Average  BGG Rank  Complexity Average  Owned Users  \\\n",
       "4913             6.33      4915                1.17       1225.0   \n",
       "5820             7.35      5822                2.69        345.0   \n",
       "7025             6.49      7027                1.00        286.0   \n",
       "8516             6.76      8518                1.06        117.0   \n",
       "9983             6.37      9985                1.50        131.0   \n",
       "10813            5.90     10815                1.13        898.0   \n",
       "16539            5.57     16541                1.80        204.0   \n",
       "18781            4.95     18783                3.50        179.0   \n",
       "\n",
       "                                               Mechanics  \\\n",
       "4913                                         Unspecified   \n",
       "5820                                        Dice Rolling   \n",
       "7025                                         Unspecified   \n",
       "8516                                              Voting   \n",
       "9983                                        Dice Rolling   \n",
       "10813                                             Memory   \n",
       "16539        Campaign / Battle Card Driven, Hexagon Grid   \n",
       "18781  Dice Rolling, Events, Paper-and-Pencil, Role P...   \n",
       "\n",
       "                         Domains  \n",
       "4913                Unclassified  \n",
       "5820                    Wargames  \n",
       "7025   Family Games, Party Games  \n",
       "8516                Unclassified  \n",
       "9983                Unclassified  \n",
       "10813               Unclassified  \n",
       "16539                   Wargames  \n",
       "18781               Unclassified  "
      ]
     },
     "execution_count": 15,
     "metadata": {},
     "output_type": "execute_result"
    }
   ],
   "source": [
    "# Show rows with 'Max Players' higher than 100\n",
    "df[df['Max Players'] > 100]"
   ]
  },
  {
   "cell_type": "markdown",
   "id": "b7af9f53-d102-4abe-b38d-808aa498950b",
   "metadata": {
    "tags": []
   },
   "source": [
    "There are 8 games with a maximum number of players over 100! Through some researching, the three games with max players = 999 don't seem to make sense. Some of the others do appear to accommodate over 100 players."
   ]
  },
  {
   "cell_type": "markdown",
   "id": "1b9600fa-ec86-4781-9c72-06accff93d18",
   "metadata": {},
   "source": [
    "Histogram to look at the distribution of 'Max Players':"
   ]
  },
  {
   "cell_type": "code",
   "execution_count": 16,
   "id": "d6358340-1e28-4bf0-bbe3-7d58f39e705e",
   "metadata": {},
   "outputs": [
    {
     "data": {
      "text/plain": [
       "<seaborn.axisgrid.FacetGrid at 0x26209837df0>"
      ]
     },
     "execution_count": 16,
     "metadata": {},
     "output_type": "execute_result"
    },
    {
     "data": {
      "image/png": "[encoded data removed]",
      "text/plain": [
       "<Figure size 360x360 with 1 Axes>"
      ]
     },
     "metadata": {
      "needs_background": "light"
     },
     "output_type": "display_data"
    }
   ],
   "source": [
    "sns.displot(df, x='Max Players', bins=20, color='#35193e')"
   ]
  },
  {
   "cell_type": "markdown",
   "id": "26862663-72a4-4c63-88eb-b6fe777ed8eb",
   "metadata": {},
   "source": [
    "How many games have a maximum player limit of 20 or fewer?"
   ]
  },
  {
   "cell_type": "code",
   "execution_count": 17,
   "id": "2146d658-f7ee-4b8b-b1bd-eb9b3ea3a3ce",
   "metadata": {},
   "outputs": [
    {
     "data": {
      "text/plain": [
       "(19934, 13)"
      ]
     },
     "execution_count": 17,
     "metadata": {},
     "output_type": "execute_result"
    }
   ],
   "source": [
    "# Get the number of rows and columns of the data that have 'Max Players' less than or equal to 20 people\n",
    "df[df['Max Players'] <= 20].shape"
   ]
  },
  {
   "cell_type": "markdown",
   "id": "d6d797e9-0525-484e-aa2c-1230091e84aa",
   "metadata": {},
   "source": [
    "As expected, this distribution is positively skewed, with 19,934 of the games (nearly 98%) having a maximum player limit of 20 or less. This may have to be another variable that I omit from my regression model due to large outliers."
   ]
  },
  {
   "cell_type": "markdown",
   "id": "c1df1133-1d39-4f65-bb56-5d0b9c428d42",
   "metadata": {},
   "source": [
    "**Issue 4:** There is an unexpectedly large maximum value for 'Play Time': 60,000 minutes (1000 hours)."
   ]
  },
  {
   "cell_type": "code",
   "execution_count": 18,
   "id": "40c48f5f-76b4-4184-9e08-eb2bf28d0660",
   "metadata": {},
   "outputs": [
    {
     "data": {
      "text/html": [
       "<div>\n",
       "<style scoped>\n",
       "    .dataframe tbody tr th:only-of-type {\n",
       "        vertical-align: middle;\n",
       "    }\n",
       "\n",
       "    .dataframe tbody tr th {\n",
       "        vertical-align: top;\n",
       "    }\n",
       "\n",
       "    .dataframe thead th {\n",
       "        text-align: right;\n",
       "    }\n",
       "</style>\n",
       "<table border=\"1\" class=\"dataframe\">\n",
       "  <thead>\n",
       "    <tr style=\"text-align: right;\">\n",
       "      <th></th>\n",
       "      <th>Name</th>\n",
       "      <th>Year Published</th>\n",
       "      <th>Min Players</th>\n",
       "      <th>Max Players</th>\n",
       "      <th>Play Time</th>\n",
       "      <th>Min Age</th>\n",
       "      <th>Users Rated</th>\n",
       "      <th>Rating Average</th>\n",
       "      <th>BGG Rank</th>\n",
       "      <th>Complexity Average</th>\n",
       "      <th>Owned Users</th>\n",
       "      <th>Mechanics</th>\n",
       "      <th>Domains</th>\n",
       "    </tr>\n",
       "  </thead>\n",
       "  <tbody>\n",
       "    <tr>\n",
       "      <th>1282</th>\n",
       "      <td>World in Flames</td>\n",
       "      <td>1985.0</td>\n",
       "      <td>2.0</td>\n",
       "      <td>7.0</td>\n",
       "      <td>6000.0</td>\n",
       "      <td>12.0</td>\n",
       "      <td>1338</td>\n",
       "      <td>7.60</td>\n",
       "      <td>1283</td>\n",
       "      <td>4.63</td>\n",
       "      <td>2646.0</td>\n",
       "      <td>Area Movement, Delayed Purchase, Dice Rolling,...</td>\n",
       "      <td>Wargames</td>\n",
       "    </tr>\n",
       "    <tr>\n",
       "      <th>1322</th>\n",
       "      <td>Empires in Arms</td>\n",
       "      <td>1983.0</td>\n",
       "      <td>2.0</td>\n",
       "      <td>7.0</td>\n",
       "      <td>12000.0</td>\n",
       "      <td>14.0</td>\n",
       "      <td>1238</td>\n",
       "      <td>7.60</td>\n",
       "      <td>1323</td>\n",
       "      <td>4.42</td>\n",
       "      <td>2129.0</td>\n",
       "      <td>Area Movement, Dice Rolling, Movement Points, ...</td>\n",
       "      <td>Wargames</td>\n",
       "    </tr>\n",
       "    <tr>\n",
       "      <th>2281</th>\n",
       "      <td>Vietnam 1965-1975</td>\n",
       "      <td>1984.0</td>\n",
       "      <td>2.0</td>\n",
       "      <td>2.0</td>\n",
       "      <td>6000.0</td>\n",
       "      <td>12.0</td>\n",
       "      <td>693</td>\n",
       "      <td>7.44</td>\n",
       "      <td>2283</td>\n",
       "      <td>4.29</td>\n",
       "      <td>2058.0</td>\n",
       "      <td>Dice Rolling, Grid Movement, Hexagon Grid, Sec...</td>\n",
       "      <td>Wargames</td>\n",
       "    </tr>\n",
       "    <tr>\n",
       "      <th>2290</th>\n",
       "      <td>Pacific War: The Struggle Against Japan 1941-1945</td>\n",
       "      <td>1985.0</td>\n",
       "      <td>2.0</td>\n",
       "      <td>2.0</td>\n",
       "      <td>6000.0</td>\n",
       "      <td>16.0</td>\n",
       "      <td>576</td>\n",
       "      <td>7.67</td>\n",
       "      <td>2292</td>\n",
       "      <td>4.53</td>\n",
       "      <td>1728.0</td>\n",
       "      <td>Dice Rolling, Hexagon Grid, Simulation</td>\n",
       "      <td>Wargames</td>\n",
       "    </tr>\n",
       "    <tr>\n",
       "      <th>3208</th>\n",
       "      <td>Case Blue</td>\n",
       "      <td>2007.0</td>\n",
       "      <td>2.0</td>\n",
       "      <td>2.0</td>\n",
       "      <td>22500.0</td>\n",
       "      <td>12.0</td>\n",
       "      <td>289</td>\n",
       "      <td>8.26</td>\n",
       "      <td>3210</td>\n",
       "      <td>4.58</td>\n",
       "      <td>711.0</td>\n",
       "      <td>Dice Rolling, Hexagon Grid, Simulation</td>\n",
       "      <td>Wargames</td>\n",
       "    </tr>\n",
       "    <tr>\n",
       "      <th>3876</th>\n",
       "      <td>Enemy at the Gates</td>\n",
       "      <td>1994.0</td>\n",
       "      <td>1.0</td>\n",
       "      <td>4.0</td>\n",
       "      <td>6000.0</td>\n",
       "      <td>12.0</td>\n",
       "      <td>257</td>\n",
       "      <td>7.64</td>\n",
       "      <td>3878</td>\n",
       "      <td>4.39</td>\n",
       "      <td>790.0</td>\n",
       "      <td>Dice Rolling, Hexagon Grid, Simulation, Zone o...</td>\n",
       "      <td>Wargames</td>\n",
       "    </tr>\n",
       "    <tr>\n",
       "      <th>3886</th>\n",
       "      <td>The Greatest Day: Sword, Juno, and Gold Beaches</td>\n",
       "      <td>2015.0</td>\n",
       "      <td>2.0</td>\n",
       "      <td>8.0</td>\n",
       "      <td>6000.0</td>\n",
       "      <td>12.0</td>\n",
       "      <td>175</td>\n",
       "      <td>8.70</td>\n",
       "      <td>3888</td>\n",
       "      <td>4.09</td>\n",
       "      <td>752.0</td>\n",
       "      <td>Chit-Pull System, Hexagon Grid</td>\n",
       "      <td>Wargames</td>\n",
       "    </tr>\n",
       "    <tr>\n",
       "      <th>5195</th>\n",
       "      <td>Atlanta Is Ours</td>\n",
       "      <td>2018.0</td>\n",
       "      <td>1.0</td>\n",
       "      <td>2.0</td>\n",
       "      <td>7920.0</td>\n",
       "      <td>NaN</td>\n",
       "      <td>105</td>\n",
       "      <td>8.71</td>\n",
       "      <td>5197</td>\n",
       "      <td>3.86</td>\n",
       "      <td>566.0</td>\n",
       "      <td>Dice Rolling, Grid Movement, Hexagon Grid, Mov...</td>\n",
       "      <td>Wargames</td>\n",
       "    </tr>\n",
       "    <tr>\n",
       "      <th>6035</th>\n",
       "      <td>1914: Offensive à outrance</td>\n",
       "      <td>2013.0</td>\n",
       "      <td>2.0</td>\n",
       "      <td>4.0</td>\n",
       "      <td>17280.0</td>\n",
       "      <td>NaN</td>\n",
       "      <td>108</td>\n",
       "      <td>7.98</td>\n",
       "      <td>6037</td>\n",
       "      <td>4.07</td>\n",
       "      <td>661.0</td>\n",
       "      <td>Dice Rolling, Hexagon Grid, Simulation</td>\n",
       "      <td>Wargames</td>\n",
       "    </tr>\n",
       "    <tr>\n",
       "      <th>6518</th>\n",
       "      <td>1985: Under an Iron Sky</td>\n",
       "      <td>2018.0</td>\n",
       "      <td>2.0</td>\n",
       "      <td>6.0</td>\n",
       "      <td>8640.0</td>\n",
       "      <td>16.0</td>\n",
       "      <td>90</td>\n",
       "      <td>9.12</td>\n",
       "      <td>6520</td>\n",
       "      <td>4.27</td>\n",
       "      <td>363.0</td>\n",
       "      <td>Dice Rolling, Hexagon Grid, Simulation, Zone o...</td>\n",
       "      <td>Wargames</td>\n",
       "    </tr>\n",
       "    <tr>\n",
       "      <th>7895</th>\n",
       "      <td>Atlantic Wall: D-Day to Falaise</td>\n",
       "      <td>2014.0</td>\n",
       "      <td>2.0</td>\n",
       "      <td>6.0</td>\n",
       "      <td>14400.0</td>\n",
       "      <td>16.0</td>\n",
       "      <td>69</td>\n",
       "      <td>8.08</td>\n",
       "      <td>7897</td>\n",
       "      <td>4.89</td>\n",
       "      <td>328.0</td>\n",
       "      <td>Hexagon Grid, Zone of Control</td>\n",
       "      <td>Wargames</td>\n",
       "    </tr>\n",
       "    <tr>\n",
       "      <th>8449</th>\n",
       "      <td>Korsun Pocket: Little Stalingrad on the Dnepr</td>\n",
       "      <td>1979.0</td>\n",
       "      <td>2.0</td>\n",
       "      <td>6.0</td>\n",
       "      <td>6000.0</td>\n",
       "      <td>12.0</td>\n",
       "      <td>50</td>\n",
       "      <td>7.80</td>\n",
       "      <td>8451</td>\n",
       "      <td>4.54</td>\n",
       "      <td>178.0</td>\n",
       "      <td>Dice Rolling, Grid Movement, Hexagon Grid, Mov...</td>\n",
       "      <td>Wargames</td>\n",
       "    </tr>\n",
       "    <tr>\n",
       "      <th>9033</th>\n",
       "      <td>Age of Muskets Volume I: Tomb for an Empire</td>\n",
       "      <td>2008.0</td>\n",
       "      <td>2.0</td>\n",
       "      <td>6.0</td>\n",
       "      <td>6000.0</td>\n",
       "      <td>NaN</td>\n",
       "      <td>84</td>\n",
       "      <td>7.39</td>\n",
       "      <td>9035</td>\n",
       "      <td>3.79</td>\n",
       "      <td>223.0</td>\n",
       "      <td>Action Points, Area Movement, Area-Impulse, Di...</td>\n",
       "      <td>Wargames</td>\n",
       "    </tr>\n",
       "    <tr>\n",
       "      <th>9497</th>\n",
       "      <td>Drang Nach Osten!</td>\n",
       "      <td>1973.0</td>\n",
       "      <td>2.0</td>\n",
       "      <td>4.0</td>\n",
       "      <td>12000.0</td>\n",
       "      <td>12.0</td>\n",
       "      <td>77</td>\n",
       "      <td>6.82</td>\n",
       "      <td>9499</td>\n",
       "      <td>4.22</td>\n",
       "      <td>192.0</td>\n",
       "      <td>Dice Rolling, Hexagon Grid, Simulation</td>\n",
       "      <td>Wargames</td>\n",
       "    </tr>\n",
       "    <tr>\n",
       "      <th>11476</th>\n",
       "      <td>Imperium Romanum</td>\n",
       "      <td>2019.0</td>\n",
       "      <td>1.0</td>\n",
       "      <td>6.0</td>\n",
       "      <td>6000.0</td>\n",
       "      <td>12.0</td>\n",
       "      <td>40</td>\n",
       "      <td>7.75</td>\n",
       "      <td>11478</td>\n",
       "      <td>4.00</td>\n",
       "      <td>193.0</td>\n",
       "      <td>Dice Rolling, Grid Movement, Hexagon Grid, Mov...</td>\n",
       "      <td>Wargames</td>\n",
       "    </tr>\n",
       "    <tr>\n",
       "      <th>13420</th>\n",
       "      <td>The Campaign for North Africa: The Desert War ...</td>\n",
       "      <td>1979.0</td>\n",
       "      <td>8.0</td>\n",
       "      <td>10.0</td>\n",
       "      <td>60000.0</td>\n",
       "      <td>14.0</td>\n",
       "      <td>146</td>\n",
       "      <td>6.10</td>\n",
       "      <td>13422</td>\n",
       "      <td>4.71</td>\n",
       "      <td>385.0</td>\n",
       "      <td>Dice Rolling, Hexagon Grid, Simulation</td>\n",
       "      <td>Wargames</td>\n",
       "    </tr>\n",
       "    <tr>\n",
       "      <th>13607</th>\n",
       "      <td>The Enigma Box</td>\n",
       "      <td>2017.0</td>\n",
       "      <td>1.0</td>\n",
       "      <td>4.0</td>\n",
       "      <td>10000.0</td>\n",
       "      <td>12.0</td>\n",
       "      <td>65</td>\n",
       "      <td>6.92</td>\n",
       "      <td>13609</td>\n",
       "      <td>3.86</td>\n",
       "      <td>171.0</td>\n",
       "      <td>Cooperative Game, Memory, Paper-and-Pencil, St...</td>\n",
       "      <td>Unclassified</td>\n",
       "    </tr>\n",
       "  </tbody>\n",
       "</table>\n",
       "</div>"
      ],
      "text/plain": [
       "                                                    Name  Year Published  \\\n",
       "1282                                     World in Flames          1985.0   \n",
       "1322                                     Empires in Arms          1983.0   \n",
       "2281                                   Vietnam 1965-1975          1984.0   \n",
       "2290   Pacific War: The Struggle Against Japan 1941-1945          1985.0   \n",
       "3208                                           Case Blue          2007.0   \n",
       "3876                                  Enemy at the Gates          1994.0   \n",
       "3886     The Greatest Day: Sword, Juno, and Gold Beaches          2015.0   \n",
       "5195                                     Atlanta Is Ours          2018.0   \n",
       "6035                          1914: Offensive à outrance          2013.0   \n",
       "6518                             1985: Under an Iron Sky          2018.0   \n",
       "7895                     Atlantic Wall: D-Day to Falaise          2014.0   \n",
       "8449       Korsun Pocket: Little Stalingrad on the Dnepr          1979.0   \n",
       "9033         Age of Muskets Volume I: Tomb for an Empire          2008.0   \n",
       "9497                                   Drang Nach Osten!          1973.0   \n",
       "11476                                   Imperium Romanum          2019.0   \n",
       "13420  The Campaign for North Africa: The Desert War ...          1979.0   \n",
       "13607                                     The Enigma Box          2017.0   \n",
       "\n",
       "       Min Players  Max Players  Play Time  Min Age  Users Rated  \\\n",
       "1282           2.0          7.0     6000.0     12.0         1338   \n",
       "1322           2.0          7.0    12000.0     14.0         1238   \n",
       "2281           2.0          2.0     6000.0     12.0          693   \n",
       "2290           2.0          2.0     6000.0     16.0          576   \n",
       "3208           2.0          2.0    22500.0     12.0          289   \n",
       "3876           1.0          4.0     6000.0     12.0          257   \n",
       "3886           2.0          8.0     6000.0     12.0          175   \n",
       "5195           1.0          2.0     7920.0      NaN          105   \n",
       "6035           2.0          4.0    17280.0      NaN          108   \n",
       "6518           2.0          6.0     8640.0     16.0           90   \n",
       "7895           2.0          6.0    14400.0     16.0           69   \n",
       "8449           2.0          6.0     6000.0     12.0           50   \n",
       "9033           2.0          6.0     6000.0      NaN           84   \n",
       "9497           2.0          4.0    12000.0     12.0           77   \n",
       "11476          1.0          6.0     6000.0     12.0           40   \n",
       "13420          8.0         10.0    60000.0     14.0          146   \n",
       "13607          1.0          4.0    10000.0     12.0           65   \n",
       "\n",
       "       Rating Average  BGG Rank  Complexity Average  Owned Users  \\\n",
       "1282             7.60      1283                4.63       2646.0   \n",
       "1322             7.60      1323                4.42       2129.0   \n",
       "2281             7.44      2283                4.29       2058.0   \n",
       "2290             7.67      2292                4.53       1728.0   \n",
       "3208             8.26      3210                4.58        711.0   \n",
       "3876             7.64      3878                4.39        790.0   \n",
       "3886             8.70      3888                4.09        752.0   \n",
       "5195             8.71      5197                3.86        566.0   \n",
       "6035             7.98      6037                4.07        661.0   \n",
       "6518             9.12      6520                4.27        363.0   \n",
       "7895             8.08      7897                4.89        328.0   \n",
       "8449             7.80      8451                4.54        178.0   \n",
       "9033             7.39      9035                3.79        223.0   \n",
       "9497             6.82      9499                4.22        192.0   \n",
       "11476            7.75     11478                4.00        193.0   \n",
       "13420            6.10     13422                4.71        385.0   \n",
       "13607            6.92     13609                3.86        171.0   \n",
       "\n",
       "                                               Mechanics       Domains  \n",
       "1282   Area Movement, Delayed Purchase, Dice Rolling,...      Wargames  \n",
       "1322   Area Movement, Dice Rolling, Movement Points, ...      Wargames  \n",
       "2281   Dice Rolling, Grid Movement, Hexagon Grid, Sec...      Wargames  \n",
       "2290              Dice Rolling, Hexagon Grid, Simulation      Wargames  \n",
       "3208              Dice Rolling, Hexagon Grid, Simulation      Wargames  \n",
       "3876   Dice Rolling, Hexagon Grid, Simulation, Zone o...      Wargames  \n",
       "3886                      Chit-Pull System, Hexagon Grid      Wargames  \n",
       "5195   Dice Rolling, Grid Movement, Hexagon Grid, Mov...      Wargames  \n",
       "6035              Dice Rolling, Hexagon Grid, Simulation      Wargames  \n",
       "6518   Dice Rolling, Hexagon Grid, Simulation, Zone o...      Wargames  \n",
       "7895                       Hexagon Grid, Zone of Control      Wargames  \n",
       "8449   Dice Rolling, Grid Movement, Hexagon Grid, Mov...      Wargames  \n",
       "9033   Action Points, Area Movement, Area-Impulse, Di...      Wargames  \n",
       "9497              Dice Rolling, Hexagon Grid, Simulation      Wargames  \n",
       "11476  Dice Rolling, Grid Movement, Hexagon Grid, Mov...      Wargames  \n",
       "13420             Dice Rolling, Hexagon Grid, Simulation      Wargames  \n",
       "13607  Cooperative Game, Memory, Paper-and-Pencil, St...  Unclassified  "
      ]
     },
     "execution_count": 18,
     "metadata": {},
     "output_type": "execute_result"
    }
   ],
   "source": [
    "# Show rows with 'Play Time' higher than 6000 minutes (100 hours)\n",
    "df[df['Play Time'] >= 6000]"
   ]
  },
  {
   "cell_type": "markdown",
   "id": "60784bad-c1ba-4f19-9235-8a1852428da8",
   "metadata": {},
   "source": [
    "There are 17 games with a play time of 6000 or more minutes (100+ hours). The game \"The Campaign for North Africa: The Dessert War\" tops the list at 60,000 minutes - more than 40 days of play time! Most of these long games are Wargames with high complexity ratings."
   ]
  },
  {
   "cell_type": "markdown",
   "id": "064f74cc-bd6a-44ab-b635-b8a107dd4493",
   "metadata": {},
   "source": [
    "Histogram to look at the distribution of 'Play Time':"
   ]
  },
  {
   "cell_type": "code",
   "execution_count": 19,
   "id": "26ee5358-4932-43ab-8094-1e9cc4c34aff",
   "metadata": {},
   "outputs": [
    {
     "data": {
      "text/plain": [
       "<seaborn.axisgrid.FacetGrid at 0x26209ab9190>"
      ]
     },
     "execution_count": 19,
     "metadata": {},
     "output_type": "execute_result"
    },
    {
     "data": {
      "image/png": "[encoded data removed]",
      "text/plain": [
       "<Figure size 360x360 with 1 Axes>"
      ]
     },
     "metadata": {
      "needs_background": "light"
     },
     "output_type": "display_data"
    }
   ],
   "source": [
    "sns.displot(df, x='Play Time', bins=20, color='#35193e')"
   ]
  },
  {
   "cell_type": "markdown",
   "id": "281ab9f2-57b0-47fc-acbe-c4a1eab6b1f3",
   "metadata": {},
   "source": [
    "How many games have an average play time of 300 minutes (5 hours) or less?"
   ]
  },
  {
   "cell_type": "code",
   "execution_count": 20,
   "id": "21581903-f9ce-41fd-9ab2-4a530ea1e117",
   "metadata": {},
   "outputs": [
    {
     "data": {
      "text/plain": [
       "(19150, 13)"
      ]
     },
     "execution_count": 20,
     "metadata": {},
     "output_type": "execute_result"
    }
   ],
   "source": [
    "# Get the number of rows and columns of the data that have 'Play Time' less than or equal to 300 minutes\n",
    "df[df['Play Time'] <= 300].shape"
   ]
  },
  {
   "cell_type": "markdown",
   "id": "dbb381cf-beab-4a70-9120-0961bf0e85db",
   "metadata": {},
   "source": [
    "Once again, this data is positively skewed with 94% of the games having a play time of 5 hours or less. Games that take days or weeks to play are outliers."
   ]
  },
  {
   "cell_type": "markdown",
   "id": "89a0e1df-76c5-4a79-8c30-ddfcf3e7ff9d",
   "metadata": {
    "tags": []
   },
   "source": [
    "**Conclusion:**\n",
    "Because of the extreme outliers in 'Year Published', 'Max Players', and 'Play Time', I suspect that they will not be very significant for predicting the BGG rating. I will be careful about using them in the linear regression model."
   ]
  },
  {
   "cell_type": "markdown",
   "id": "6c1006df-984c-4c6e-9dd8-0a429a427eec",
   "metadata": {},
   "source": [
    "### Dealing with Missing Values"
   ]
  },
  {
   "cell_type": "markdown",
   "id": "f55178d2-0305-4ab2-b4f6-bb7dcb0d95f7",
   "metadata": {},
   "source": [
    "Now that I've replaced the suspicious 0s with NaNs, I need to decide how I will deal with the missing values. Here is a count of the missing values in each column:"
   ]
  },
  {
   "cell_type": "code",
   "execution_count": 21,
   "id": "5845848b-5a7e-4dcb-b040-f5a6c29ed448",
   "metadata": {},
   "outputs": [
    {
     "data": {
      "text/plain": [
       "Name                     0\n",
       "Year Published         186\n",
       "Min Players             46\n",
       "Max Players            161\n",
       "Play Time              556\n",
       "Min Age               1251\n",
       "Users Rated              0\n",
       "Rating Average           0\n",
       "BGG Rank                 0\n",
       "Complexity Average     426\n",
       "Owned Users             23\n",
       "Mechanics                0\n",
       "Domains                  0\n",
       "dtype: int64"
      ]
     },
     "execution_count": 21,
     "metadata": {},
     "output_type": "execute_result"
    }
   ],
   "source": [
    "df.isna().sum()"
   ]
  },
  {
   "cell_type": "markdown",
   "id": "b6b10162-8f42-42b3-b1a6-ddf894d61d51",
   "metadata": {},
   "source": [
    "Let's see if we have a similar distribution of the BGG rating with and without the missing values in other columns. First I need to make a dataframe with the rows with missing values dropped."
   ]
  },
  {
   "cell_type": "code",
   "execution_count": 22,
   "id": "20f786da-8cc6-47f0-9068-84fb8e527b21",
   "metadata": {},
   "outputs": [],
   "source": [
    "# Drop the rows of the dataset that have missing values\n",
    "df_no_nan = df.dropna()\n",
    "# Reset index so that I can concatenate dataframes later\n",
    "df_no_nan = df_no_nan.reset_index(drop=True)"
   ]
  },
  {
   "cell_type": "markdown",
   "id": "4c994e33-4b04-414f-8af7-3bace669412b",
   "metadata": {},
   "source": [
    "Next I will create histograms of the BGG Rating Average with and without missing values."
   ]
  },
  {
   "cell_type": "code",
   "execution_count": 23,
   "id": "cb2f36dd-c4a9-4e0d-9b9d-f409dd489b2f",
   "metadata": {},
   "outputs": [
    {
     "data": {
      "text/plain": [
       "<seaborn.axisgrid.FacetGrid at 0x2620b626490>"
      ]
     },
     "execution_count": 23,
     "metadata": {},
     "output_type": "execute_result"
    },
    {
     "data": {
      "image/png": "[encoded data removed]",
      "text/plain": [
       "<Figure size 360x360 with 1 Axes>"
      ]
     },
     "metadata": {
      "needs_background": "light"
     },
     "output_type": "display_data"
    }
   ],
   "source": [
    "# Histogram of Rating Average with missing values\n",
    "sns.displot(df, x='Rating Average', bins=10, color='#35193e')"
   ]
  },
  {
   "cell_type": "code",
   "execution_count": 24,
   "id": "13efccab-0904-4b81-baea-ea363ca51c31",
   "metadata": {},
   "outputs": [
    {
     "data": {
      "text/plain": [
       "<seaborn.axisgrid.FacetGrid at 0x2620a64ec70>"
      ]
     },
     "execution_count": 24,
     "metadata": {},
     "output_type": "execute_result"
    },
    {
     "data": {
      "image/png": "[encoded data removed]",
      "text/plain": [
       "<Figure size 360x360 with 1 Axes>"
      ]
     },
     "metadata": {
      "needs_background": "light"
     },
     "output_type": "display_data"
    }
   ],
   "source": [
    "# Histogram of Rating Average with missing values removed\n",
    "sns.displot(df_no_nan, x='Rating Average', bins=10, color='#35193e')"
   ]
  },
  {
   "cell_type": "markdown",
   "id": "0eb8502b-82ff-49e4-930c-d0530778ba09",
   "metadata": {},
   "source": [
    "These distributions look quite similar: quite normally distributed with a mean around 6.5. So far I see no issues with using the dataframe with missing values removed. However, I will also look at how the missing values are distributed among the game domains and mechanics."
   ]
  },
  {
   "cell_type": "markdown",
   "id": "9cacb5d5-f867-4ab5-8056-88446f7e60b1",
   "metadata": {
    "tags": []
   },
   "source": [
    "### Game Domains and Mechanics"
   ]
  },
  {
   "cell_type": "markdown",
   "id": "5cb226d5-1cd4-470a-8ff1-7699a1fa8e56",
   "metadata": {},
   "source": [
    "The columns 'Domains' and 'Mechanics' contain lists of multiple game domains and game mechanics. I want to:\n",
    "- Find out how many different domains and mechanics there are\n",
    "- Get a count of each unique domain and mechanic\n",
    "- Make a comparison of the count of domains and mechanics with and without missing values in other columns, so that I can decide whether I can drop the games with missing values from my dataset."
   ]
  },
  {
   "cell_type": "markdown",
   "id": "7a49b0cf-f650-4048-afcd-0fdb354a673a",
   "metadata": {},
   "source": [
    "#### Game Domains"
   ]
  },
  {
   "cell_type": "markdown",
   "id": "0c234cdb-1a92-4cd2-a6d3-4c3fcae6210f",
   "metadata": {},
   "source": [
    "Flatten the lists in the 'Domains' column to a single list for the original dataframe (with missing values):"
   ]
  },
  {
   "cell_type": "code",
   "execution_count": 25,
   "id": "421737d1-54bb-4f39-8ed7-be3a9f70d41a",
   "metadata": {
    "tags": []
   },
   "outputs": [],
   "source": [
    "# Make a new column in the dataframe that turns the 'Domains' column into a list\n",
    "df['domains_list'] = df['Domains'].apply(lambda x: x.split(', '))\n",
    "# Make a list of the lists from 'domains_list' column\n",
    "dom_list = list(df['domains_list'].values)\n",
    "# Flatten the list of domains using list comprehension\n",
    "dom_list2 = [x for sublist in dom_list for x in sublist]"
   ]
  },
  {
   "cell_type": "markdown",
   "id": "be973887-dd70-4a9b-aca6-28eaae756612",
   "metadata": {
    "tags": []
   },
   "source": [
    "Get a count of how often each domain occurs:"
   ]
  },
  {
   "cell_type": "code",
   "execution_count": 26,
   "id": "09605539-eb97-46e6-a8d9-ef72c2611a99",
   "metadata": {},
   "outputs": [
    {
     "data": {
      "text/html": [
       "<div>\n",
       "<style scoped>\n",
       "    .dataframe tbody tr th:only-of-type {\n",
       "        vertical-align: middle;\n",
       "    }\n",
       "\n",
       "    .dataframe tbody tr th {\n",
       "        vertical-align: top;\n",
       "    }\n",
       "\n",
       "    .dataframe thead th {\n",
       "        text-align: right;\n",
       "    }\n",
       "</style>\n",
       "<table border=\"1\" class=\"dataframe\">\n",
       "  <thead>\n",
       "    <tr style=\"text-align: right;\">\n",
       "      <th></th>\n",
       "      <th>domain</th>\n",
       "      <th>count</th>\n",
       "    </tr>\n",
       "  </thead>\n",
       "  <tbody>\n",
       "    <tr>\n",
       "      <th>8</th>\n",
       "      <td>Unclassified</td>\n",
       "      <td>10159</td>\n",
       "    </tr>\n",
       "    <tr>\n",
       "      <th>2</th>\n",
       "      <td>Wargames</td>\n",
       "      <td>3316</td>\n",
       "    </tr>\n",
       "    <tr>\n",
       "      <th>0</th>\n",
       "      <td>Strategy Games</td>\n",
       "      <td>2205</td>\n",
       "    </tr>\n",
       "    <tr>\n",
       "      <th>3</th>\n",
       "      <td>Family Games</td>\n",
       "      <td>2173</td>\n",
       "    </tr>\n",
       "    <tr>\n",
       "      <th>1</th>\n",
       "      <td>Thematic Games</td>\n",
       "      <td>1174</td>\n",
       "    </tr>\n",
       "    <tr>\n",
       "      <th>5</th>\n",
       "      <td>Abstract Games</td>\n",
       "      <td>1070</td>\n",
       "    </tr>\n",
       "    <tr>\n",
       "      <th>7</th>\n",
       "      <td>Children's Games</td>\n",
       "      <td>849</td>\n",
       "    </tr>\n",
       "    <tr>\n",
       "      <th>6</th>\n",
       "      <td>Party Games</td>\n",
       "      <td>605</td>\n",
       "    </tr>\n",
       "    <tr>\n",
       "      <th>4</th>\n",
       "      <td>Customizable Games</td>\n",
       "      <td>297</td>\n",
       "    </tr>\n",
       "  </tbody>\n",
       "</table>\n",
       "</div>"
      ],
      "text/plain": [
       "               domain  count\n",
       "8        Unclassified  10159\n",
       "2            Wargames   3316\n",
       "0      Strategy Games   2205\n",
       "3        Family Games   2173\n",
       "1      Thematic Games   1174\n",
       "5      Abstract Games   1070\n",
       "7    Children's Games    849\n",
       "6         Party Games    605\n",
       "4  Customizable Games    297"
      ]
     },
     "execution_count": 26,
     "metadata": {},
     "output_type": "execute_result"
    }
   ],
   "source": [
    "# Count the number of times each domain appears in the list\n",
    "domain_count = Counter(dom_list2)\n",
    "\n",
    "# Convert domain_count dictionary to a dataframe\n",
    "df_domains = pd.DataFrame.from_dict(domain_count, orient='index').reset_index()\n",
    "# Rename the columns\n",
    "df_domains.columns = ['domain', 'count']\n",
    "# Sort the rows by count descending\n",
    "df_domains.sort_values(by=['count'], ascending=False, inplace=True)\n",
    "df_domains"
   ]
  },
  {
   "cell_type": "markdown",
   "id": "53376e08-2ce2-4f72-828a-09b98d104034",
   "metadata": {},
   "source": [
    "Now I will do the same analysis on game domains in the dataframe with the missing values removed."
   ]
  },
  {
   "cell_type": "code",
   "execution_count": 27,
   "id": "edcd1308-8a89-49a9-b370-e92fc38af595",
   "metadata": {},
   "outputs": [
    {
     "data": {
      "text/html": [
       "<div>\n",
       "<style scoped>\n",
       "    .dataframe tbody tr th:only-of-type {\n",
       "        vertical-align: middle;\n",
       "    }\n",
       "\n",
       "    .dataframe tbody tr th {\n",
       "        vertical-align: top;\n",
       "    }\n",
       "\n",
       "    .dataframe thead th {\n",
       "        text-align: right;\n",
       "    }\n",
       "</style>\n",
       "<table border=\"1\" class=\"dataframe\">\n",
       "  <thead>\n",
       "    <tr style=\"text-align: right;\">\n",
       "      <th></th>\n",
       "      <th>domain</th>\n",
       "      <th>count</th>\n",
       "    </tr>\n",
       "  </thead>\n",
       "  <tbody>\n",
       "    <tr>\n",
       "      <th>8</th>\n",
       "      <td>Unclassified</td>\n",
       "      <td>8832</td>\n",
       "    </tr>\n",
       "    <tr>\n",
       "      <th>2</th>\n",
       "      <td>Wargames</td>\n",
       "      <td>2710</td>\n",
       "    </tr>\n",
       "    <tr>\n",
       "      <th>0</th>\n",
       "      <td>Strategy Games</td>\n",
       "      <td>2170</td>\n",
       "    </tr>\n",
       "    <tr>\n",
       "      <th>3</th>\n",
       "      <td>Family Games</td>\n",
       "      <td>2137</td>\n",
       "    </tr>\n",
       "    <tr>\n",
       "      <th>1</th>\n",
       "      <td>Thematic Games</td>\n",
       "      <td>1132</td>\n",
       "    </tr>\n",
       "    <tr>\n",
       "      <th>5</th>\n",
       "      <td>Abstract Games</td>\n",
       "      <td>929</td>\n",
       "    </tr>\n",
       "    <tr>\n",
       "      <th>7</th>\n",
       "      <td>Children's Games</td>\n",
       "      <td>797</td>\n",
       "    </tr>\n",
       "    <tr>\n",
       "      <th>6</th>\n",
       "      <td>Party Games</td>\n",
       "      <td>590</td>\n",
       "    </tr>\n",
       "    <tr>\n",
       "      <th>4</th>\n",
       "      <td>Customizable Games</td>\n",
       "      <td>268</td>\n",
       "    </tr>\n",
       "  </tbody>\n",
       "</table>\n",
       "</div>"
      ],
      "text/plain": [
       "               domain  count\n",
       "8        Unclassified   8832\n",
       "2            Wargames   2710\n",
       "0      Strategy Games   2170\n",
       "3        Family Games   2137\n",
       "1      Thematic Games   1132\n",
       "5      Abstract Games    929\n",
       "7    Children's Games    797\n",
       "6         Party Games    590\n",
       "4  Customizable Games    268"
      ]
     },
     "execution_count": 27,
     "metadata": {},
     "output_type": "execute_result"
    }
   ],
   "source": [
    "# Make the Domain Count table again from the dataframe without the NaNs, following the same process as above\n",
    "df_no_nan['domains_list'] = df_no_nan['Domains'].apply(lambda x: x.split(', '))\n",
    "no_nan_dom_list = list(df_no_nan['domains_list'].values)\n",
    "no_nan_dom_list2 = [x for sublist in no_nan_dom_list for x in sublist]\n",
    "\n",
    "no_nan_domain_count = Counter(no_nan_dom_list2)\n",
    "\n",
    "df_no_nan_domains = pd.DataFrame.from_dict(no_nan_domain_count, orient='index').reset_index()\n",
    "df_no_nan_domains.columns = ['domain', 'count']\n",
    "df_no_nan_domains.sort_values(by=['count'], ascending=False, inplace=True)\n",
    "df_no_nan_domains"
   ]
  },
  {
   "cell_type": "markdown",
   "id": "d852a11a-00ed-4ec5-95e7-4d501e0a9201",
   "metadata": {},
   "source": [
    "Compare bar plots of the count of domains with and without missing values:"
   ]
  },
  {
   "cell_type": "code",
   "execution_count": 28,
   "id": "cd76ffd7-8266-43ec-82e5-aeca19f309bb",
   "metadata": {},
   "outputs": [
    {
     "data": {
      "text/plain": [
       "Text(0.5, 1.0, 'Game Domains')"
      ]
     },
     "execution_count": 28,
     "metadata": {},
     "output_type": "execute_result"
    },
    {
     "data": {
      "image/png": "[encoded data removed]",
      "text/plain": [
       "<Figure size 720x432 with 1 Axes>"
      ]
     },
     "metadata": {
      "needs_background": "light"
     },
     "output_type": "display_data"
    }
   ],
   "source": [
    "# Bar chart for count of domains with the missing values included\n",
    "# Set the size of the chart\n",
    "plt.figure(figsize=(10,6))\n",
    "# Make a bar chart of the count of the domains with horizontal bars\n",
    "domain_chart = sns.barplot(data=df_domains, x='count', y='domain', palette='rocket')\n",
    "# Give the chart a title\n",
    "domain_chart.set_title('Game Domains')"
   ]
  },
  {
   "cell_type": "code",
   "execution_count": 29,
   "id": "7c3f2e1d-2a9e-4ecb-924c-d7f8b72d082a",
   "metadata": {},
   "outputs": [
    {
     "data": {
      "text/plain": [
       "Text(0.5, 1.0, 'Game Domains (Missing Values Removed)')"
      ]
     },
     "execution_count": 29,
     "metadata": {},
     "output_type": "execute_result"
    },
    {
     "data": {
      "image/png": "[encoded data removed]",
      "text/plain": [
       "<Figure size 720x432 with 1 Axes>"
      ]
     },
     "metadata": {
      "needs_background": "light"
     },
     "output_type": "display_data"
    }
   ],
   "source": [
    "# Bar chart for count of domains with the missing values removed\n",
    "plt.figure(figsize=(10,6))\n",
    "domain_chart = sns.barplot(data=df_no_nan_domains, x='count', y='domain', palette='rocket')\n",
    "domain_chart.set_title('Game Domains (Missing Values Removed)')"
   ]
  },
  {
   "cell_type": "markdown",
   "id": "245bdf3e-334e-45e1-97bb-e699abecf47d",
   "metadata": {
    "tags": []
   },
   "source": [
    "These two distributions look quite similar, so there shouldn't be any issues using the data with missing values removed as far as domains go.\n",
    "\n",
    "(These bar charts also reinforce the earlier observation that there are many games with unclassified domains: almost half the dataset.)"
   ]
  },
  {
   "cell_type": "markdown",
   "id": "cb258d94-2496-4bfb-a631-8db892c485d4",
   "metadata": {
    "tags": []
   },
   "source": [
    "#### Game Mechanics"
   ]
  },
  {
   "cell_type": "markdown",
   "id": "9c2b91fa-5279-4cff-9006-66154e095b4e",
   "metadata": {},
   "source": [
    "Flatten the lists in the 'Mechanics' column to a single list for the original dataframe (with missing values):"
   ]
  },
  {
   "cell_type": "code",
   "execution_count": 30,
   "id": "adaebc90-3cb4-46fb-8aa9-1e67fdcd25dc",
   "metadata": {
    "tags": []
   },
   "outputs": [],
   "source": [
    "# Make a new column in the dataframe that turns the 'Mechanics' column into a list\n",
    "df['mechanics_list'] = df['Mechanics'].apply(lambda x: x.split(', '))\n",
    "# Make a list of the lists from the mechanics_list column\n",
    "mech_list = list(df['mechanics_list'].values)\n",
    "# FLatten the list of mechanics using list comprehension\n",
    "mech_list2 = [x for sublist in mech_list for x in sublist]"
   ]
  },
  {
   "cell_type": "markdown",
   "id": "5d6c8eeb-17de-4f45-be25-eb7dfc3cd819",
   "metadata": {},
   "source": [
    "Get a count of how often each mechanic occurs:"
   ]
  },
  {
   "cell_type": "code",
   "execution_count": 31,
   "id": "68c38ba1-e98a-480f-8b5e-b3dce0769dd7",
   "metadata": {
    "tags": []
   },
   "outputs": [
    {
     "data": {
      "text/plain": [
       "183"
      ]
     },
     "execution_count": 31,
     "metadata": {},
     "output_type": "execute_result"
    }
   ],
   "source": [
    "# Count the number of times each mechanic appears in the list\n",
    "mechanics_count = Counter(mech_list2)\n",
    "\n",
    "# Count the number of unique game mechanics\n",
    "len(pd.unique(mech_list2))"
   ]
  },
  {
   "cell_type": "markdown",
   "id": "10d56e7b-d1c1-439b-99f2-b4dbefe1dce0",
   "metadata": {},
   "source": [
    "There are 183 different game mechanics! This is too many for me to handle in this analysis, so I will narrow it down to the mechanics that occur in over 1000 games."
   ]
  },
  {
   "cell_type": "code",
   "execution_count": 32,
   "id": "a45f60d7-87d0-493b-b064-9fd278078284",
   "metadata": {},
   "outputs": [
    {
     "data": {
      "text/html": [
       "<div>\n",
       "<style scoped>\n",
       "    .dataframe tbody tr th:only-of-type {\n",
       "        vertical-align: middle;\n",
       "    }\n",
       "\n",
       "    .dataframe tbody tr th {\n",
       "        vertical-align: top;\n",
       "    }\n",
       "\n",
       "    .dataframe thead th {\n",
       "        text-align: right;\n",
       "    }\n",
       "</style>\n",
       "<table border=\"1\" class=\"dataframe\">\n",
       "  <thead>\n",
       "    <tr style=\"text-align: right;\">\n",
       "      <th></th>\n",
       "      <th>mechanic</th>\n",
       "      <th>count</th>\n",
       "    </tr>\n",
       "  </thead>\n",
       "  <tbody>\n",
       "    <tr>\n",
       "      <th>40</th>\n",
       "      <td>Dice Rolling</td>\n",
       "      <td>5672</td>\n",
       "    </tr>\n",
       "    <tr>\n",
       "      <th>9</th>\n",
       "      <td>Hand Management</td>\n",
       "      <td>4152</td>\n",
       "    </tr>\n",
       "    <tr>\n",
       "      <th>21</th>\n",
       "      <td>Set Collection</td>\n",
       "      <td>2733</td>\n",
       "    </tr>\n",
       "    <tr>\n",
       "      <th>18</th>\n",
       "      <td>Variable Player Powers</td>\n",
       "      <td>2534</td>\n",
       "    </tr>\n",
       "    <tr>\n",
       "      <th>10</th>\n",
       "      <td>Hexagon Grid</td>\n",
       "      <td>2253</td>\n",
       "    </tr>\n",
       "    <tr>\n",
       "      <th>56</th>\n",
       "      <td>Simulation</td>\n",
       "      <td>1944</td>\n",
       "    </tr>\n",
       "    <tr>\n",
       "      <th>31</th>\n",
       "      <td>Card Drafting</td>\n",
       "      <td>1730</td>\n",
       "    </tr>\n",
       "    <tr>\n",
       "      <th>35</th>\n",
       "      <td>Tile Placement</td>\n",
       "      <td>1692</td>\n",
       "    </tr>\n",
       "    <tr>\n",
       "      <th>12</th>\n",
       "      <td>Modular Board</td>\n",
       "      <td>1623</td>\n",
       "    </tr>\n",
       "    <tr>\n",
       "      <th>173</th>\n",
       "      <td>Unspecified</td>\n",
       "      <td>1598</td>\n",
       "    </tr>\n",
       "    <tr>\n",
       "      <th>38</th>\n",
       "      <td>Area Majority / Influence</td>\n",
       "      <td>1502</td>\n",
       "    </tr>\n",
       "    <tr>\n",
       "      <th>8</th>\n",
       "      <td>Grid Movement</td>\n",
       "      <td>1478</td>\n",
       "    </tr>\n",
       "    <tr>\n",
       "      <th>5</th>\n",
       "      <td>Cooperative Game</td>\n",
       "      <td>1402</td>\n",
       "    </tr>\n",
       "    <tr>\n",
       "      <th>135</th>\n",
       "      <td>Roll / Spin and Move</td>\n",
       "      <td>1303</td>\n",
       "    </tr>\n",
       "    <tr>\n",
       "      <th>51</th>\n",
       "      <td>Area Movement</td>\n",
       "      <td>1122</td>\n",
       "    </tr>\n",
       "    <tr>\n",
       "      <th>15</th>\n",
       "      <td>Simultaneous Action Selection</td>\n",
       "      <td>1100</td>\n",
       "    </tr>\n",
       "    <tr>\n",
       "      <th>19</th>\n",
       "      <td>Action Points</td>\n",
       "      <td>1082</td>\n",
       "    </tr>\n",
       "    <tr>\n",
       "      <th>46</th>\n",
       "      <td>Auction/Bidding</td>\n",
       "      <td>1058</td>\n",
       "    </tr>\n",
       "  </tbody>\n",
       "</table>\n",
       "</div>"
      ],
      "text/plain": [
       "                          mechanic  count\n",
       "40                    Dice Rolling   5672\n",
       "9                  Hand Management   4152\n",
       "21                  Set Collection   2733\n",
       "18          Variable Player Powers   2534\n",
       "10                    Hexagon Grid   2253\n",
       "56                      Simulation   1944\n",
       "31                   Card Drafting   1730\n",
       "35                  Tile Placement   1692\n",
       "12                   Modular Board   1623\n",
       "173                    Unspecified   1598\n",
       "38       Area Majority / Influence   1502\n",
       "8                    Grid Movement   1478\n",
       "5                 Cooperative Game   1402\n",
       "135           Roll / Spin and Move   1303\n",
       "51                   Area Movement   1122\n",
       "15   Simultaneous Action Selection   1100\n",
       "19                   Action Points   1082\n",
       "46                 Auction/Bidding   1058"
      ]
     },
     "execution_count": 32,
     "metadata": {},
     "output_type": "execute_result"
    }
   ],
   "source": [
    "# Convert mechanics_count dictionary to dataframe\n",
    "df_mechanics = pd.DataFrame.from_dict(mechanics_count, orient='index').reset_index()\n",
    "# Rename the columns\n",
    "df_mechanics.columns = ['mechanic', 'count']\n",
    "# Sort the rows by count descending\n",
    "df_mechanics.sort_values(by=['count'], ascending=False, inplace=True)\n",
    "\n",
    "# Limit to the game mechanics that occur in over 1000 games\n",
    "df_top_mech = df_mechanics[df_mechanics['count'] > 1000]\n",
    "df_top_mech"
   ]
  },
  {
   "cell_type": "markdown",
   "id": "4bb85b16-2d56-4089-a958-4b65b920efed",
   "metadata": {},
   "source": [
    "Now I will drop the rows with missing values from the dataframe and do the same analysis on game mechanics, again limiting it to the mechanics that occur over 1000 times."
   ]
  },
  {
   "cell_type": "code",
   "execution_count": 33,
   "id": "00456831",
   "metadata": {},
   "outputs": [
    {
     "data": {
      "text/html": [
       "<div>\n",
       "<style scoped>\n",
       "    .dataframe tbody tr th:only-of-type {\n",
       "        vertical-align: middle;\n",
       "    }\n",
       "\n",
       "    .dataframe tbody tr th {\n",
       "        vertical-align: top;\n",
       "    }\n",
       "\n",
       "    .dataframe thead th {\n",
       "        text-align: right;\n",
       "    }\n",
       "</style>\n",
       "<table border=\"1\" class=\"dataframe\">\n",
       "  <thead>\n",
       "    <tr style=\"text-align: right;\">\n",
       "      <th></th>\n",
       "      <th>mechanic</th>\n",
       "      <th>count</th>\n",
       "    </tr>\n",
       "  </thead>\n",
       "  <tbody>\n",
       "    <tr>\n",
       "      <th>40</th>\n",
       "      <td>Dice Rolling</td>\n",
       "      <td>4972</td>\n",
       "    </tr>\n",
       "    <tr>\n",
       "      <th>9</th>\n",
       "      <td>Hand Management</td>\n",
       "      <td>3851</td>\n",
       "    </tr>\n",
       "    <tr>\n",
       "      <th>21</th>\n",
       "      <td>Set Collection</td>\n",
       "      <td>2586</td>\n",
       "    </tr>\n",
       "    <tr>\n",
       "      <th>18</th>\n",
       "      <td>Variable Player Powers</td>\n",
       "      <td>2337</td>\n",
       "    </tr>\n",
       "    <tr>\n",
       "      <th>10</th>\n",
       "      <td>Hexagon Grid</td>\n",
       "      <td>1847</td>\n",
       "    </tr>\n",
       "    <tr>\n",
       "      <th>56</th>\n",
       "      <td>Simulation</td>\n",
       "      <td>1645</td>\n",
       "    </tr>\n",
       "    <tr>\n",
       "      <th>31</th>\n",
       "      <td>Card Drafting</td>\n",
       "      <td>1637</td>\n",
       "    </tr>\n",
       "    <tr>\n",
       "      <th>35</th>\n",
       "      <td>Tile Placement</td>\n",
       "      <td>1591</td>\n",
       "    </tr>\n",
       "    <tr>\n",
       "      <th>12</th>\n",
       "      <td>Modular Board</td>\n",
       "      <td>1533</td>\n",
       "    </tr>\n",
       "    <tr>\n",
       "      <th>38</th>\n",
       "      <td>Area Majority / Influence</td>\n",
       "      <td>1426</td>\n",
       "    </tr>\n",
       "    <tr>\n",
       "      <th>8</th>\n",
       "      <td>Grid Movement</td>\n",
       "      <td>1346</td>\n",
       "    </tr>\n",
       "    <tr>\n",
       "      <th>5</th>\n",
       "      <td>Cooperative Game</td>\n",
       "      <td>1308</td>\n",
       "    </tr>\n",
       "    <tr>\n",
       "      <th>173</th>\n",
       "      <td>Unspecified</td>\n",
       "      <td>1291</td>\n",
       "    </tr>\n",
       "    <tr>\n",
       "      <th>135</th>\n",
       "      <td>Roll / Spin and Move</td>\n",
       "      <td>1151</td>\n",
       "    </tr>\n",
       "    <tr>\n",
       "      <th>15</th>\n",
       "      <td>Simultaneous Action Selection</td>\n",
       "      <td>1041</td>\n",
       "    </tr>\n",
       "    <tr>\n",
       "      <th>51</th>\n",
       "      <td>Area Movement</td>\n",
       "      <td>1016</td>\n",
       "    </tr>\n",
       "  </tbody>\n",
       "</table>\n",
       "</div>"
      ],
      "text/plain": [
       "                          mechanic  count\n",
       "40                    Dice Rolling   4972\n",
       "9                  Hand Management   3851\n",
       "21                  Set Collection   2586\n",
       "18          Variable Player Powers   2337\n",
       "10                    Hexagon Grid   1847\n",
       "56                      Simulation   1645\n",
       "31                   Card Drafting   1637\n",
       "35                  Tile Placement   1591\n",
       "12                   Modular Board   1533\n",
       "38       Area Majority / Influence   1426\n",
       "8                    Grid Movement   1346\n",
       "5                 Cooperative Game   1308\n",
       "173                    Unspecified   1291\n",
       "135           Roll / Spin and Move   1151\n",
       "15   Simultaneous Action Selection   1041\n",
       "51                   Area Movement   1016"
      ]
     },
     "execution_count": 33,
     "metadata": {},
     "output_type": "execute_result"
    }
   ],
   "source": [
    "# Create the 'mechanics_list' column in the dataframe df_no_nan\n",
    "df_no_nan['mechanics_list'] = df_no_nan['Mechanics'].apply(lambda x: x.split(', '))\n",
    "# Follow same steps as above to flatten the list of mechanics, make a table to count the mechanics, and limit it to the mechanics that occur over 1000 times\n",
    "no_nan_mech_list = list(df_no_nan['mechanics_list'].values)\n",
    "no_nan_mech_list2 = [x for sublist in no_nan_mech_list for x in sublist]\n",
    "\n",
    "no_nan_mechanics_count = Counter(no_nan_mech_list2)\n",
    "\n",
    "df_no_nan_mechanics = pd.DataFrame.from_dict(no_nan_mechanics_count, orient='index').reset_index()\n",
    "df_no_nan_mechanics.columns = ['mechanic', 'count']\n",
    "df_no_nan_mechanics.sort_values(by=['count'], ascending=False, inplace=True)\n",
    "\n",
    "# Limit it to the mechanics that occur over 1000 times\n",
    "df_no_nan_top_mech = df_no_nan_mechanics[df_no_nan_mechanics['count'] > 1000]\n",
    "df_no_nan_top_mech"
   ]
  },
  {
   "cell_type": "markdown",
   "id": "4a81ac4d-bfdb-459d-be23-3cdae276f5a1",
   "metadata": {},
   "source": [
    "Compare bar plots of the count of the most common mechanics with and without missing values:"
   ]
  },
  {
   "cell_type": "code",
   "execution_count": 34,
   "id": "88c35b5e-9911-427e-bd63-a77ef6a53977",
   "metadata": {
    "tags": []
   },
   "outputs": [
    {
     "data": {
      "text/plain": [
       "Text(0.5, 1.0, 'Most Common Game Mechanics')"
      ]
     },
     "execution_count": 34,
     "metadata": {},
     "output_type": "execute_result"
    },
    {
     "data": {
      "image/png": "[encoded data removed]",
      "text/plain": [
       "<Figure size 720x432 with 1 Axes>"
      ]
     },
     "metadata": {
      "needs_background": "light"
     },
     "output_type": "display_data"
    }
   ],
   "source": [
    "# Bar chart for count of most common mechanics with the missing values included\n",
    "# Set the chart size\n",
    "plt.figure(figsize=(10,6))\n",
    "# Make a bar chart of the count of the mechanics with horizontal bars\n",
    "mech_chart = sns.barplot(data=df_top_mech, x='count', y='mechanic', palette='rocket')\n",
    "# Give the chart a title\n",
    "mech_chart.set_title('Most Common Game Mechanics')"
   ]
  },
  {
   "cell_type": "code",
   "execution_count": 35,
   "id": "aac234e9",
   "metadata": {},
   "outputs": [
    {
     "data": {
      "text/plain": [
       "Text(0.5, 1.0, 'Most Common Game Mechanics (Missing Values Removed)')"
      ]
     },
     "execution_count": 35,
     "metadata": {},
     "output_type": "execute_result"
    },
    {
     "data": {
      "image/png": "[encoded data removed]",
      "text/plain": [
       "<Figure size 720x432 with 1 Axes>"
      ]
     },
     "metadata": {
      "needs_background": "light"
     },
     "output_type": "display_data"
    }
   ],
   "source": [
    "# Bar chart for count of most common mechanics with the missing values removed\n",
    "plt.figure(figsize=(10,6))\n",
    "mech_chart_no_nan = sns.barplot(data=df_no_nan_top_mech, x='count', y='mechanic', palette='rocket')\n",
    "mech_chart_no_nan.set_title('Most Common Game Mechanics (Missing Values Removed)')"
   ]
  },
  {
   "cell_type": "markdown",
   "id": "d23b2bd7",
   "metadata": {},
   "source": [
    "There are some differences in these distributions:\n",
    "- The Unspecified category lost more games than any other category by removing missing values and moved down in the ranking from 10th to 13th. Otherwise the orders are almost the same.\n",
    "- The Hexagon Grid mechanic also lost more games than most other categories.\n",
    "- There are two fewer categories that passed the over-1000 criteria, leaving 16 mechanics rather than 18.\n",
    "\n",
    "**The missing values are biased toward the Unspecified and Hexagon Grid mechanics.** I will use the dataframe with the missing values removed, but this means that, with regard to games with Unspecified and Hexagon Grid mechanics, the results of my analysis are only valid for those games that do not have missing values. For games with other mechanics, we can generalize the results to those that have missing information."
   ]
  },
  {
   "cell_type": "markdown",
   "id": "fcc3dbb5",
   "metadata": {},
   "source": [
    "### One Hot Encoding\n",
    "The best tool to answer my data question is a linear regression model. In order to run a linear regression on the data, I will use one hot encoding to change the game mechanics and domains into columns with 0s and 1s. I will just be considering mechanics that occur more than 1000 times in the data (top 16 mechanics), and I will use the dataframe with missing values removed."
   ]
  },
  {
   "cell_type": "markdown",
   "id": "30fce368",
   "metadata": {},
   "source": [
    "#### Mechanics List\n",
    "I want a padded list for only the game mechanics that appear in over 1000 games."
   ]
  },
  {
   "cell_type": "code",
   "execution_count": 36,
   "id": "ed663531",
   "metadata": {},
   "outputs": [],
   "source": [
    "# Define the list padding function\n",
    "def pad_mech_sublist(sublst):\n",
    "    new_mech_list = []\n",
    "    # Run through the list of mechanics that have a count higher than 1000.\n",
    "    for mechanic in ['Dice Rolling', 'Hand Management', 'Set Collection', 'Variable Player Powers', 'Hexagon Grid', 'Simulation', \n",
    "                     'Card Drafting', 'Tile Placement', 'Modular Board', 'Area Majority / Influence', 'Grid Movement', \n",
    "                     'Cooperative Game', 'Unspecified', 'Roll / Spin and Move', 'Simultaneous Action Selection', 'Area Movement']:\n",
    "        # If the mechanic appears in that list, append the mechanic name.\n",
    "        if mechanic in sublst:\n",
    "            new_mech_list.append(mechanic)\n",
    "        # If the mechanic does not appear in that list, append the mechanic name with 0 at the end.\n",
    "        else:\n",
    "            new_mech_list.append(mechanic + '0')\n",
    "    return new_mech_list\n",
    "\n",
    "# Pass the no_nan_mech_list into this function\n",
    "mech_frame = list(map(pad_mech_sublist, no_nan_mech_list))"
   ]
  },
  {
   "cell_type": "markdown",
   "id": "92376cc7",
   "metadata": {
    "tags": []
   },
   "source": [
    "Turn the lists in mech_frame into a dataframe with 0s and 1s:"
   ]
  },
  {
   "cell_type": "code",
   "execution_count": 37,
   "id": "8c9c029b",
   "metadata": {},
   "outputs": [],
   "source": [
    "# Define a function to sort the lists alphabetically\n",
    "def sort_sublists(lst):\n",
    "    for sublist in lst:\n",
    "        sublist.sort()\n",
    "    return\n",
    "\n",
    "# Pass mech_frame into the sorting function\n",
    "sort_sublists(mech_frame)\n",
    "\n",
    "# Convert into a dataframe with column headers\n",
    "mech_frame = pd.DataFrame(mech_frame, columns=['Area Majority / Influence', 'Area Movement', 'Card Drafting', \n",
    "                                               'Cooperative Game', 'Dice Rolling', 'Grid Movement', 'Hand Management', \n",
    "                                               'Hexagon Grid', 'Modular Board', 'Roll / Spin and Move', 'Set Collection', \n",
    "                                               'Simulation', 'Simultaneous Action Selection', 'Tile Placement', 'Unspecified', \n",
    "                                               'Variable Player Powers'])\n",
    "\n",
    "# Define the dictionary to convert the values into 0s and 1s\n",
    "mech_conversion = {'Area Majority / Influence':1, 'Area Majority / Influence0':0, \n",
    "                   'Area Movement':1, 'Area Movement0':0, \n",
    "                   'Card Drafting':1, 'Card Drafting0':0, \n",
    "                   'Cooperative Game':1, 'Cooperative Game0':0, \n",
    "                   'Dice Rolling':1, 'Dice Rolling0':0, \n",
    "                   'Grid Movement':1, 'Grid Movement0':0, \n",
    "                   'Hand Management':1, 'Hand Management0':0, \n",
    "                   'Hexagon Grid':1, 'Hexagon Grid0':0, \n",
    "                   'Modular Board':1, 'Modular Board0':0, \n",
    "                   'Roll / Spin and Move':1, 'Roll / Spin and Move0':0, \n",
    "                   'Set Collection':1, 'Set Collection0':0, \n",
    "                   'Simulation':1, 'Simulation0':0,\n",
    "                   'Simultaneous Action Selection':1, 'Simultaneous Action Selection0':0,\n",
    "                   'Tile Placement':1, 'Tile Placement0':0,\n",
    "                   'Unspecified':1, 'Unspecified0':0,\n",
    "                   'Variable Player Powers':1, 'Variable Player Powers0':0}\n",
    "\n",
    "# Apply the conversion to the dataframe\n",
    "mech_frame = mech_frame.applymap(lambda x: mech_conversion[x])"
   ]
  },
  {
   "cell_type": "markdown",
   "id": "12b64ceb-fc13-40d9-8952-ff9bc07c640b",
   "metadata": {},
   "source": [
    "Now I have a dataframe with the game mechanic names as the column headers and a 0 or 1 in each column. 0 indicates that the game does not include the mechanic; 1 indicates that it does."
   ]
  },
  {
   "cell_type": "code",
   "execution_count": 38,
   "id": "5a18a8b3",
   "metadata": {},
   "outputs": [
    {
     "data": {
      "text/html": [
       "<div>\n",
       "<style scoped>\n",
       "    .dataframe tbody tr th:only-of-type {\n",
       "        vertical-align: middle;\n",
       "    }\n",
       "\n",
       "    .dataframe tbody tr th {\n",
       "        vertical-align: top;\n",
       "    }\n",
       "\n",
       "    .dataframe thead th {\n",
       "        text-align: right;\n",
       "    }\n",
       "</style>\n",
       "<table border=\"1\" class=\"dataframe\">\n",
       "  <thead>\n",
       "    <tr style=\"text-align: right;\">\n",
       "      <th></th>\n",
       "      <th>Area Majority / Influence</th>\n",
       "      <th>Area Movement</th>\n",
       "      <th>Card Drafting</th>\n",
       "      <th>Cooperative Game</th>\n",
       "      <th>Dice Rolling</th>\n",
       "      <th>Grid Movement</th>\n",
       "      <th>Hand Management</th>\n",
       "      <th>Hexagon Grid</th>\n",
       "      <th>Modular Board</th>\n",
       "      <th>Roll / Spin and Move</th>\n",
       "      <th>Set Collection</th>\n",
       "      <th>Simulation</th>\n",
       "      <th>Simultaneous Action Selection</th>\n",
       "      <th>Tile Placement</th>\n",
       "      <th>Unspecified</th>\n",
       "      <th>Variable Player Powers</th>\n",
       "    </tr>\n",
       "  </thead>\n",
       "  <tbody>\n",
       "    <tr>\n",
       "      <th>0</th>\n",
       "      <td>0</td>\n",
       "      <td>0</td>\n",
       "      <td>0</td>\n",
       "      <td>1</td>\n",
       "      <td>0</td>\n",
       "      <td>1</td>\n",
       "      <td>1</td>\n",
       "      <td>1</td>\n",
       "      <td>1</td>\n",
       "      <td>0</td>\n",
       "      <td>0</td>\n",
       "      <td>0</td>\n",
       "      <td>1</td>\n",
       "      <td>0</td>\n",
       "      <td>0</td>\n",
       "      <td>1</td>\n",
       "    </tr>\n",
       "    <tr>\n",
       "      <th>1</th>\n",
       "      <td>0</td>\n",
       "      <td>0</td>\n",
       "      <td>0</td>\n",
       "      <td>1</td>\n",
       "      <td>0</td>\n",
       "      <td>0</td>\n",
       "      <td>1</td>\n",
       "      <td>0</td>\n",
       "      <td>0</td>\n",
       "      <td>0</td>\n",
       "      <td>1</td>\n",
       "      <td>0</td>\n",
       "      <td>0</td>\n",
       "      <td>0</td>\n",
       "      <td>0</td>\n",
       "      <td>1</td>\n",
       "    </tr>\n",
       "    <tr>\n",
       "      <th>2</th>\n",
       "      <td>0</td>\n",
       "      <td>0</td>\n",
       "      <td>0</td>\n",
       "      <td>0</td>\n",
       "      <td>0</td>\n",
       "      <td>0</td>\n",
       "      <td>1</td>\n",
       "      <td>0</td>\n",
       "      <td>0</td>\n",
       "      <td>0</td>\n",
       "      <td>0</td>\n",
       "      <td>0</td>\n",
       "      <td>0</td>\n",
       "      <td>0</td>\n",
       "      <td>0</td>\n",
       "      <td>0</td>\n",
       "    </tr>\n",
       "    <tr>\n",
       "      <th>3</th>\n",
       "      <td>0</td>\n",
       "      <td>0</td>\n",
       "      <td>1</td>\n",
       "      <td>0</td>\n",
       "      <td>0</td>\n",
       "      <td>0</td>\n",
       "      <td>1</td>\n",
       "      <td>1</td>\n",
       "      <td>0</td>\n",
       "      <td>0</td>\n",
       "      <td>1</td>\n",
       "      <td>0</td>\n",
       "      <td>0</td>\n",
       "      <td>1</td>\n",
       "      <td>0</td>\n",
       "      <td>1</td>\n",
       "    </tr>\n",
       "    <tr>\n",
       "      <th>4</th>\n",
       "      <td>1</td>\n",
       "      <td>0</td>\n",
       "      <td>0</td>\n",
       "      <td>0</td>\n",
       "      <td>1</td>\n",
       "      <td>1</td>\n",
       "      <td>0</td>\n",
       "      <td>1</td>\n",
       "      <td>1</td>\n",
       "      <td>0</td>\n",
       "      <td>0</td>\n",
       "      <td>0</td>\n",
       "      <td>0</td>\n",
       "      <td>0</td>\n",
       "      <td>0</td>\n",
       "      <td>1</td>\n",
       "    </tr>\n",
       "  </tbody>\n",
       "</table>\n",
       "</div>"
      ],
      "text/plain": [
       "   Area Majority / Influence  Area Movement  Card Drafting  Cooperative Game  \\\n",
       "0                          0              0              0                 1   \n",
       "1                          0              0              0                 1   \n",
       "2                          0              0              0                 0   \n",
       "3                          0              0              1                 0   \n",
       "4                          1              0              0                 0   \n",
       "\n",
       "   Dice Rolling  Grid Movement  Hand Management  Hexagon Grid  Modular Board  \\\n",
       "0             0              1                1             1              1   \n",
       "1             0              0                1             0              0   \n",
       "2             0              0                1             0              0   \n",
       "3             0              0                1             1              0   \n",
       "4             1              1                0             1              1   \n",
       "\n",
       "   Roll / Spin and Move  Set Collection  Simulation  \\\n",
       "0                     0               0           0   \n",
       "1                     0               1           0   \n",
       "2                     0               0           0   \n",
       "3                     0               1           0   \n",
       "4                     0               0           0   \n",
       "\n",
       "   Simultaneous Action Selection  Tile Placement  Unspecified  \\\n",
       "0                              1               0            0   \n",
       "1                              0               0            0   \n",
       "2                              0               0            0   \n",
       "3                              0               1            0   \n",
       "4                              0               0            0   \n",
       "\n",
       "   Variable Player Powers  \n",
       "0                       1  \n",
       "1                       1  \n",
       "2                       0  \n",
       "3                       1  \n",
       "4                       1  "
      ]
     },
     "execution_count": 38,
     "metadata": {},
     "output_type": "execute_result"
    }
   ],
   "source": [
    "mech_frame.head()"
   ]
  },
  {
   "cell_type": "markdown",
   "id": "df3c3cc1",
   "metadata": {},
   "source": [
    "#### Domains List\n",
    "I want a padded list for all the game domains."
   ]
  },
  {
   "cell_type": "code",
   "execution_count": 39,
   "id": "0294efbc",
   "metadata": {},
   "outputs": [],
   "source": [
    "# Define the list padding function\n",
    "def pad_dom_sublist(sublst):\n",
    "    sublst = copy.copy(sublst)\n",
    "    if 'Strategy Games' not in sublst:\n",
    "        sublst.append('Strategy Games0')\n",
    "    if 'Thematic Games' not in sublst:\n",
    "        sublst.append('Thematic Games0')\n",
    "    if 'Wargames' not in sublst:\n",
    "        sublst.append('Wargames0')\n",
    "    if 'Family Games' not in sublst:\n",
    "        sublst.append('Family Games0')\n",
    "    if 'Customizable Games' not in sublst:\n",
    "        sublst.append('Customizable Games0')\n",
    "    if 'Abstract Games' not in sublst:\n",
    "        sublst.append('Abstract Games0')\n",
    "    if 'Party Games' not in sublst:\n",
    "        sublst.append('Party Games0')\n",
    "    if \"Children's Games\" not in sublst:\n",
    "        sublst.append(\"Children's Games0\")\n",
    "    if 'Unclassified' not in sublst:\n",
    "        sublst.append('Unclassified0')\n",
    "    return sublst\n",
    "\n",
    "# Pass the no_nan_dom_list into this function\n",
    "dom_frame = list(map(pad_dom_sublist, no_nan_dom_list))"
   ]
  },
  {
   "cell_type": "markdown",
   "id": "fa8291e5",
   "metadata": {},
   "source": [
    "Turn the lists in dom_frame into a dataframe with 0s and 1s:"
   ]
  },
  {
   "cell_type": "code",
   "execution_count": 40,
   "id": "c0aabc7a",
   "metadata": {},
   "outputs": [],
   "source": [
    "# Pass dom_frame into the alphabetical sorting function defined above\n",
    "sort_sublists(dom_frame)\n",
    "\n",
    "# Convert into a dataframe with column headers\n",
    "dom_frame = pd.DataFrame(dom_frame, columns=['Abstract Games', \"Children's Games\", 'Customizable Games', 'Family Games', \n",
    "                                            'Party Games', 'Strategy Games', 'Thematic Games', 'Unclassified', 'Wargames'])\n",
    "\n",
    "# Convert the values into 0s and 1s\n",
    "dom_conversion = {'Abstract Games':1, 'Abstract Games0':0, \n",
    "                  \"Children's Games\":1, \"Children's Games0\":0, \n",
    "                  'Customizable Games':1, 'Customizable Games0':0,\n",
    "                  'Family Games':1, 'Family Games0':0, \n",
    "                  'Party Games':1, 'Party Games0':0, \n",
    "                  'Strategy Games':1, 'Strategy Games0':0, \n",
    "                  'Thematic Games':1, 'Thematic Games0':0, \n",
    "                  'Unclassified':1, 'Unclassified0':0, \n",
    "                  'Wargames':1, 'Wargames0':0}\n",
    "\n",
    "# Apply the conversion to the dataframe\n",
    "dom_frame = dom_frame.applymap(lambda x: dom_conversion[x])"
   ]
  },
  {
   "cell_type": "markdown",
   "id": "0d8f7a7f-9394-4e0f-8496-4235f9bfacc1",
   "metadata": {},
   "source": [
    "Now I have a dataframe with the game domain names as the column headers and a 0 or 1 in each column. 0 indicates that the game does not belong in the domain; 1 indicates that it does."
   ]
  },
  {
   "cell_type": "code",
   "execution_count": 41,
   "id": "1e84e370",
   "metadata": {
    "scrolled": true,
    "tags": []
   },
   "outputs": [
    {
     "data": {
      "text/html": [
       "<div>\n",
       "<style scoped>\n",
       "    .dataframe tbody tr th:only-of-type {\n",
       "        vertical-align: middle;\n",
       "    }\n",
       "\n",
       "    .dataframe tbody tr th {\n",
       "        vertical-align: top;\n",
       "    }\n",
       "\n",
       "    .dataframe thead th {\n",
       "        text-align: right;\n",
       "    }\n",
       "</style>\n",
       "<table border=\"1\" class=\"dataframe\">\n",
       "  <thead>\n",
       "    <tr style=\"text-align: right;\">\n",
       "      <th></th>\n",
       "      <th>Abstract Games</th>\n",
       "      <th>Children's Games</th>\n",
       "      <th>Customizable Games</th>\n",
       "      <th>Family Games</th>\n",
       "      <th>Party Games</th>\n",
       "      <th>Strategy Games</th>\n",
       "      <th>Thematic Games</th>\n",
       "      <th>Unclassified</th>\n",
       "      <th>Wargames</th>\n",
       "    </tr>\n",
       "  </thead>\n",
       "  <tbody>\n",
       "    <tr>\n",
       "      <th>0</th>\n",
       "      <td>0</td>\n",
       "      <td>0</td>\n",
       "      <td>0</td>\n",
       "      <td>0</td>\n",
       "      <td>0</td>\n",
       "      <td>1</td>\n",
       "      <td>1</td>\n",
       "      <td>0</td>\n",
       "      <td>0</td>\n",
       "    </tr>\n",
       "    <tr>\n",
       "      <th>1</th>\n",
       "      <td>0</td>\n",
       "      <td>0</td>\n",
       "      <td>0</td>\n",
       "      <td>0</td>\n",
       "      <td>0</td>\n",
       "      <td>1</td>\n",
       "      <td>1</td>\n",
       "      <td>0</td>\n",
       "      <td>0</td>\n",
       "    </tr>\n",
       "    <tr>\n",
       "      <th>2</th>\n",
       "      <td>0</td>\n",
       "      <td>0</td>\n",
       "      <td>0</td>\n",
       "      <td>0</td>\n",
       "      <td>0</td>\n",
       "      <td>1</td>\n",
       "      <td>0</td>\n",
       "      <td>0</td>\n",
       "      <td>0</td>\n",
       "    </tr>\n",
       "    <tr>\n",
       "      <th>3</th>\n",
       "      <td>0</td>\n",
       "      <td>0</td>\n",
       "      <td>0</td>\n",
       "      <td>0</td>\n",
       "      <td>0</td>\n",
       "      <td>1</td>\n",
       "      <td>0</td>\n",
       "      <td>0</td>\n",
       "      <td>0</td>\n",
       "    </tr>\n",
       "    <tr>\n",
       "      <th>4</th>\n",
       "      <td>0</td>\n",
       "      <td>0</td>\n",
       "      <td>0</td>\n",
       "      <td>0</td>\n",
       "      <td>0</td>\n",
       "      <td>1</td>\n",
       "      <td>1</td>\n",
       "      <td>0</td>\n",
       "      <td>0</td>\n",
       "    </tr>\n",
       "  </tbody>\n",
       "</table>\n",
       "</div>"
      ],
      "text/plain": [
       "   Abstract Games  Children's Games  Customizable Games  Family Games  \\\n",
       "0               0                 0                   0             0   \n",
       "1               0                 0                   0             0   \n",
       "2               0                 0                   0             0   \n",
       "3               0                 0                   0             0   \n",
       "4               0                 0                   0             0   \n",
       "\n",
       "   Party Games  Strategy Games  Thematic Games  Unclassified  Wargames  \n",
       "0            0               1               1             0         0  \n",
       "1            0               1               1             0         0  \n",
       "2            0               1               0             0         0  \n",
       "3            0               1               0             0         0  \n",
       "4            0               1               1             0         0  "
      ]
     },
     "execution_count": 41,
     "metadata": {},
     "output_type": "execute_result"
    }
   ],
   "source": [
    "dom_frame.head()"
   ]
  },
  {
   "cell_type": "markdown",
   "id": "adc2d68e",
   "metadata": {},
   "source": [
    "#### Concatenate all three dataframes"
   ]
  },
  {
   "cell_type": "code",
   "execution_count": 42,
   "id": "53a877c5",
   "metadata": {},
   "outputs": [],
   "source": [
    "# Concatenate the two one-hot-encoded dataframes I just made with the main dataframe (with missing values removed)\n",
    "df_final = pd.concat([df_no_nan, mech_frame, dom_frame], axis=1)\n",
    "\n",
    "# Drop the columns I no longer need since this information is encoded with 0s and 1s.\n",
    "df_final.drop(columns=['Mechanics', 'Domains', 'mechanics_list', 'domains_list'], inplace=True)"
   ]
  },
  {
   "cell_type": "markdown",
   "id": "67c3b0a2-dc9f-49a2-acfb-7c7e3593cab1",
   "metadata": {},
   "source": [
    "Here is the final dataframe that I can use for my analysis:"
   ]
  },
  {
   "cell_type": "code",
   "execution_count": 43,
   "id": "1ca36cb1",
   "metadata": {},
   "outputs": [
    {
     "data": {
      "text/html": [
       "<div>\n",
       "<style scoped>\n",
       "    .dataframe tbody tr th:only-of-type {\n",
       "        vertical-align: middle;\n",
       "    }\n",
       "\n",
       "    .dataframe tbody tr th {\n",
       "        vertical-align: top;\n",
       "    }\n",
       "\n",
       "    .dataframe thead th {\n",
       "        text-align: right;\n",
       "    }\n",
       "</style>\n",
       "<table border=\"1\" class=\"dataframe\">\n",
       "  <thead>\n",
       "    <tr style=\"text-align: right;\">\n",
       "      <th></th>\n",
       "      <th>Name</th>\n",
       "      <th>Year Published</th>\n",
       "      <th>Min Players</th>\n",
       "      <th>Max Players</th>\n",
       "      <th>Play Time</th>\n",
       "      <th>Min Age</th>\n",
       "      <th>Users Rated</th>\n",
       "      <th>Rating Average</th>\n",
       "      <th>BGG Rank</th>\n",
       "      <th>Complexity Average</th>\n",
       "      <th>...</th>\n",
       "      <th>Variable Player Powers</th>\n",
       "      <th>Abstract Games</th>\n",
       "      <th>Children's Games</th>\n",
       "      <th>Customizable Games</th>\n",
       "      <th>Family Games</th>\n",
       "      <th>Party Games</th>\n",
       "      <th>Strategy Games</th>\n",
       "      <th>Thematic Games</th>\n",
       "      <th>Unclassified</th>\n",
       "      <th>Wargames</th>\n",
       "    </tr>\n",
       "  </thead>\n",
       "  <tbody>\n",
       "    <tr>\n",
       "      <th>0</th>\n",
       "      <td>Gloomhaven</td>\n",
       "      <td>2017.0</td>\n",
       "      <td>1.0</td>\n",
       "      <td>4.0</td>\n",
       "      <td>120.0</td>\n",
       "      <td>14.0</td>\n",
       "      <td>42055</td>\n",
       "      <td>8.79</td>\n",
       "      <td>1</td>\n",
       "      <td>3.86</td>\n",
       "      <td>...</td>\n",
       "      <td>1</td>\n",
       "      <td>0</td>\n",
       "      <td>0</td>\n",
       "      <td>0</td>\n",
       "      <td>0</td>\n",
       "      <td>0</td>\n",
       "      <td>1</td>\n",
       "      <td>1</td>\n",
       "      <td>0</td>\n",
       "      <td>0</td>\n",
       "    </tr>\n",
       "    <tr>\n",
       "      <th>1</th>\n",
       "      <td>Pandemic Legacy: Season 1</td>\n",
       "      <td>2015.0</td>\n",
       "      <td>2.0</td>\n",
       "      <td>4.0</td>\n",
       "      <td>60.0</td>\n",
       "      <td>13.0</td>\n",
       "      <td>41643</td>\n",
       "      <td>8.61</td>\n",
       "      <td>2</td>\n",
       "      <td>2.84</td>\n",
       "      <td>...</td>\n",
       "      <td>1</td>\n",
       "      <td>0</td>\n",
       "      <td>0</td>\n",
       "      <td>0</td>\n",
       "      <td>0</td>\n",
       "      <td>0</td>\n",
       "      <td>1</td>\n",
       "      <td>1</td>\n",
       "      <td>0</td>\n",
       "      <td>0</td>\n",
       "    </tr>\n",
       "    <tr>\n",
       "      <th>2</th>\n",
       "      <td>Brass: Birmingham</td>\n",
       "      <td>2018.0</td>\n",
       "      <td>2.0</td>\n",
       "      <td>4.0</td>\n",
       "      <td>120.0</td>\n",
       "      <td>14.0</td>\n",
       "      <td>19217</td>\n",
       "      <td>8.66</td>\n",
       "      <td>3</td>\n",
       "      <td>3.91</td>\n",
       "      <td>...</td>\n",
       "      <td>0</td>\n",
       "      <td>0</td>\n",
       "      <td>0</td>\n",
       "      <td>0</td>\n",
       "      <td>0</td>\n",
       "      <td>0</td>\n",
       "      <td>1</td>\n",
       "      <td>0</td>\n",
       "      <td>0</td>\n",
       "      <td>0</td>\n",
       "    </tr>\n",
       "    <tr>\n",
       "      <th>3</th>\n",
       "      <td>Terraforming Mars</td>\n",
       "      <td>2016.0</td>\n",
       "      <td>1.0</td>\n",
       "      <td>5.0</td>\n",
       "      <td>120.0</td>\n",
       "      <td>12.0</td>\n",
       "      <td>64864</td>\n",
       "      <td>8.43</td>\n",
       "      <td>4</td>\n",
       "      <td>3.24</td>\n",
       "      <td>...</td>\n",
       "      <td>1</td>\n",
       "      <td>0</td>\n",
       "      <td>0</td>\n",
       "      <td>0</td>\n",
       "      <td>0</td>\n",
       "      <td>0</td>\n",
       "      <td>1</td>\n",
       "      <td>0</td>\n",
       "      <td>0</td>\n",
       "      <td>0</td>\n",
       "    </tr>\n",
       "    <tr>\n",
       "      <th>4</th>\n",
       "      <td>Twilight Imperium: Fourth Edition</td>\n",
       "      <td>2017.0</td>\n",
       "      <td>3.0</td>\n",
       "      <td>6.0</td>\n",
       "      <td>480.0</td>\n",
       "      <td>14.0</td>\n",
       "      <td>13468</td>\n",
       "      <td>8.70</td>\n",
       "      <td>5</td>\n",
       "      <td>4.22</td>\n",
       "      <td>...</td>\n",
       "      <td>1</td>\n",
       "      <td>0</td>\n",
       "      <td>0</td>\n",
       "      <td>0</td>\n",
       "      <td>0</td>\n",
       "      <td>0</td>\n",
       "      <td>1</td>\n",
       "      <td>1</td>\n",
       "      <td>0</td>\n",
       "      <td>0</td>\n",
       "    </tr>\n",
       "  </tbody>\n",
       "</table>\n",
       "<p>5 rows × 36 columns</p>\n",
       "</div>"
      ],
      "text/plain": [
       "                                Name  Year Published  Min Players  \\\n",
       "0                         Gloomhaven          2017.0          1.0   \n",
       "1          Pandemic Legacy: Season 1          2015.0          2.0   \n",
       "2                  Brass: Birmingham          2018.0          2.0   \n",
       "3                  Terraforming Mars          2016.0          1.0   \n",
       "4  Twilight Imperium: Fourth Edition          2017.0          3.0   \n",
       "\n",
       "   Max Players  Play Time  Min Age  Users Rated  Rating Average  BGG Rank  \\\n",
       "0          4.0      120.0     14.0        42055            8.79         1   \n",
       "1          4.0       60.0     13.0        41643            8.61         2   \n",
       "2          4.0      120.0     14.0        19217            8.66         3   \n",
       "3          5.0      120.0     12.0        64864            8.43         4   \n",
       "4          6.0      480.0     14.0        13468            8.70         5   \n",
       "\n",
       "   Complexity Average  ...  Variable Player Powers  Abstract Games  \\\n",
       "0                3.86  ...                       1               0   \n",
       "1                2.84  ...                       1               0   \n",
       "2                3.91  ...                       0               0   \n",
       "3                3.24  ...                       1               0   \n",
       "4                4.22  ...                       1               0   \n",
       "\n",
       "   Children's Games  Customizable Games  Family Games  Party Games  \\\n",
       "0                 0                   0             0            0   \n",
       "1                 0                   0             0            0   \n",
       "2                 0                   0             0            0   \n",
       "3                 0                   0             0            0   \n",
       "4                 0                   0             0            0   \n",
       "\n",
       "   Strategy Games  Thematic Games  Unclassified  Wargames  \n",
       "0               1               1             0         0  \n",
       "1               1               1             0         0  \n",
       "2               1               0             0         0  \n",
       "3               1               0             0         0  \n",
       "4               1               1             0         0  \n",
       "\n",
       "[5 rows x 36 columns]"
      ]
     },
     "execution_count": 43,
     "metadata": {},
     "output_type": "execute_result"
    }
   ],
   "source": [
    "df_final.head()"
   ]
  },
  {
   "cell_type": "markdown",
   "id": "0e2a6cbf",
   "metadata": {},
   "source": [
    "## Analyzing the Data\n",
    "### Linear Regression Model Using Ordinary Least Squares"
   ]
  },
  {
   "cell_type": "markdown",
   "id": "1ddf2fa3",
   "metadata": {},
   "source": [
    "This model is to determine whether the BGG Average Rating of a game can be determined by characteristics of the game.\n",
    "\n",
    "**Dependent Variable:** 'Rating Average'\n",
    "\n",
    "**Independent Variables:** I will not use 'BGG Rank' as an independent variable since it is based on the rating. For my first model, I will use all the remaining numerical columns as independent variables."
   ]
  },
  {
   "cell_type": "code",
   "execution_count": 44,
   "id": "404ee18e",
   "metadata": {},
   "outputs": [],
   "source": [
    "# Make a dataframe of the data I will use for my linear regression model\n",
    "regression_data = df_final[['Year Published', 'Min Players', 'Max Players', 'Play Time', 'Min Age', 'Users Rated', \n",
    "                                  'Rating Average', 'Complexity Average', 'Owned Users', 'Area Majority / Influence',\n",
    "                                  'Area Movement', 'Card Drafting', 'Cooperative Game', 'Dice Rolling', 'Grid Movement', \n",
    "                                  'Hand Management', 'Hexagon Grid', 'Modular Board', 'Roll / Spin and Move', 'Set Collection', \n",
    "                                  'Simulation', 'Simultaneous Action Selection', 'Tile Placement', 'Unspecified',\n",
    "                                  'Variable Player Powers', 'Abstract Games', \"Children's Games\", 'Customizable Games', \n",
    "                                  'Family Games', 'Party Games', 'Strategy Games', 'Thematic Games', 'Unclassified', 'Wargames']]"
   ]
  },
  {
   "cell_type": "markdown",
   "id": "65ef446d-7c7f-43c8-837f-e8ad9db35081",
   "metadata": {},
   "source": [
    "Make a correlation matrix heat map. I am particularly interested in how 'Rating Average' correlates with the other variables."
   ]
  },
  {
   "cell_type": "code",
   "execution_count": 45,
   "id": "4fdc953a",
   "metadata": {
    "tags": []
   },
   "outputs": [
    {
     "data": {
      "text/plain": [
       "<AxesSubplot:>"
      ]
     },
     "execution_count": 45,
     "metadata": {},
     "output_type": "execute_result"
    },
    {
     "data": {
      "image/png": "[encoded data removed]",
      "text/plain": [
       "<Figure size 864x720 with 2 Axes>"
      ]
     },
     "metadata": {
      "needs_background": "light"
     },
     "output_type": "display_data"
    }
   ],
   "source": [
    "plt.figure(figsize=(12,10))\n",
    "sns.heatmap(regression_data.corr())"
   ]
  },
  {
   "cell_type": "markdown",
   "id": "47f281d8-c4f1-4c7f-9809-bc9419767564",
   "metadata": {},
   "source": [
    "The variables that are most strongly positively correlated with 'Rating Average' are 'Complexity Average' and 'Min Age'. The variable that is most negatively correlated with 'Rating Average' is the 'Roll / Spin and Move' mechanic."
   ]
  },
  {
   "cell_type": "markdown",
   "id": "7b6766e5",
   "metadata": {
    "tags": []
   },
   "source": [
    "#### Linear Regression Model 1"
   ]
  },
  {
   "cell_type": "code",
   "execution_count": 46,
   "id": "c436009f",
   "metadata": {},
   "outputs": [],
   "source": [
    "# Assign dependent and independent variables\n",
    "dependent_vars = regression_data['Rating Average']\n",
    "independent_vars = regression_data[['Year Published', 'Min Players', 'Max Players', 'Play Time', 'Min Age', 'Users Rated', \n",
    "                                  'Complexity Average', 'Owned Users', 'Area Majority / Influence','Area Movement', \n",
    "                                    'Card Drafting', 'Cooperative Game', 'Dice Rolling', 'Grid Movement', 'Hand Management', \n",
    "                                    'Hexagon Grid', 'Modular Board', 'Roll / Spin and Move', 'Set Collection', 'Simulation', \n",
    "                                    'Simultaneous Action Selection', 'Tile Placement', 'Unspecified', 'Variable Player Powers', \n",
    "                                    'Abstract Games', \"Children's Games\", 'Customizable Games', 'Family Games', 'Party Games', \n",
    "                                    'Strategy Games', 'Thematic Games', 'Unclassified', 'Wargames']]\n",
    "independent_vars['constant'] = 1\n",
    "\n",
    "dependent_vars = dependent_vars.apply(float)\n",
    "independent_vars = independent_vars.applymap(float)"
   ]
  },
  {
   "cell_type": "code",
   "execution_count": 47,
   "id": "0e91d528",
   "metadata": {},
   "outputs": [
    {
     "name": "stdout",
     "output_type": "stream",
     "text": [
      "                            OLS Regression Results                            \n",
      "==============================================================================\n",
      "Dep. Variable:         Rating Average   R-squared:                       0.363\n",
      "Model:                            OLS   Adj. R-squared:                  0.362\n",
      "Method:                 Least Squares   F-statistic:                     312.3\n",
      "Date:                Tue, 14 Dec 2021   Prob (F-statistic):               0.00\n",
      "Time:                        15:05:58   Log-Likelihood:                -19887.\n",
      "No. Observations:               18102   AIC:                         3.984e+04\n",
      "Df Residuals:                   18068   BIC:                         4.011e+04\n",
      "Df Model:                          33                                         \n",
      "Covariance Type:            nonrobust                                         \n",
      "=================================================================================================\n",
      "                                    coef    std err          t      P>|t|      [0.025      0.975]\n",
      "-------------------------------------------------------------------------------------------------\n",
      "Year Published                    0.0005   5.68e-05      9.008      0.000       0.000       0.001\n",
      "Min Players                      -0.0902      0.009    -10.368      0.000      -0.107      -0.073\n",
      "Max Players                       0.0002      0.000      0.594      0.553      -0.000       0.001\n",
      "Play Time                      5.186e-06   1.01e-05      0.514      0.607   -1.46e-05    2.49e-05\n",
      "Min Age                           0.0167      0.003      6.650      0.000       0.012       0.022\n",
      "Users Rated                    2.696e-07   9.03e-06      0.030      0.976   -1.74e-05     1.8e-05\n",
      "Complexity Average                0.4545      0.010     44.726      0.000       0.435       0.474\n",
      "Owned Users                     1.77e-05   6.33e-06      2.795      0.005    5.29e-06    3.01e-05\n",
      "Area Majority / Influence         0.1119      0.021      5.244      0.000       0.070       0.154\n",
      "Area Movement                    -0.0938      0.025     -3.717      0.000      -0.143      -0.044\n",
      "Card Drafting                     0.1196      0.020      6.080      0.000       0.081       0.158\n",
      "Cooperative Game                  0.2968      0.023     13.045      0.000       0.252       0.341\n",
      "Dice Rolling                      0.0600      0.014      4.263      0.000       0.032       0.088\n",
      "Grid Movement                     0.0693      0.022      3.097      0.002       0.025       0.113\n",
      "Hand Management                   0.0584      0.014      4.099      0.000       0.030       0.086\n",
      "Hexagon Grid                     -0.2096      0.027     -7.826      0.000      -0.262      -0.157\n",
      "Modular Board                    -0.0058      0.021     -0.283      0.778      -0.046       0.034\n",
      "Roll / Spin and Move             -0.6418      0.023    -27.602      0.000      -0.687      -0.596\n",
      "Set Collection                    0.0003      0.016      0.021      0.983      -0.032       0.032\n",
      "Simulation                        0.0836      0.024      3.536      0.000       0.037       0.130\n",
      "Simultaneous Action Selection     0.0294      0.024      1.248      0.212      -0.017       0.076\n",
      "Tile Placement                    0.0298      0.020      1.470      0.141      -0.010       0.069\n",
      "Unspecified                      -0.2846      0.023    -12.510      0.000      -0.329      -0.240\n",
      "Variable Player Powers            0.1594      0.018      8.945      0.000       0.124       0.194\n",
      "Abstract Games                   -0.1164      0.034     -3.425      0.001      -0.183      -0.050\n",
      "Children's Games                 -0.2741      0.037     -7.388      0.000      -0.347      -0.201\n",
      "Customizable Games               -0.3563      0.050     -7.109      0.000      -0.455      -0.258\n",
      "Family Games                      0.0835      0.025      3.273      0.001       0.033       0.133\n",
      "Party Games                       0.1450      0.038      3.829      0.000       0.071       0.219\n",
      "Strategy Games                   -0.0041      0.027     -0.153      0.878      -0.056       0.048\n",
      "Thematic Games                   -0.1317      0.029     -4.555      0.000      -0.188      -0.075\n",
      "Unclassified                     -0.0873      0.028     -3.083      0.002      -0.143      -0.032\n",
      "Wargames                         -0.0405      0.033     -1.220      0.222      -0.105       0.025\n",
      "constant                          4.4946      0.121     37.016      0.000       4.257       4.733\n",
      "==============================================================================\n",
      "Omnibus:                     1017.910   Durbin-Watson:                   1.174\n",
      "Prob(Omnibus):                  0.000   Jarque-Bera (JB):             2377.189\n",
      "Skew:                          -0.354   Prob(JB):                         0.00\n",
      "Kurtosis:                       4.628   Cond. No.                     1.54e+05\n",
      "==============================================================================\n",
      "\n",
      "Notes:\n",
      "[1] Standard Errors assume that the covariance matrix of the errors is correctly specified.\n",
      "[2] The condition number is large, 1.54e+05. This might indicate that there are\n",
      "strong multicollinearity or other numerical problems.\n"
     ]
    }
   ],
   "source": [
    "# Initialize and train the model\n",
    "lin_reg = sm.OLS(dependent_vars, independent_vars)\n",
    "reg_results = lin_reg.fit()\n",
    "# Print the results\n",
    "print(reg_results.summary())"
   ]
  },
  {
   "cell_type": "markdown",
   "id": "7b30d04d",
   "metadata": {},
   "source": [
    "#### Analysis of the model:\n",
    "- Adjusted R-squared value of 0.362 shows a weak correlation.\n",
    "- Prob (F-statistic) of 0.00 indicates that the model is very significant.\n",
    "- There are many independent variables with a p-value above the acceptable level of 0.05: 'Max Players', 'Play Time', 'Users Rated', 'Modular Board', 'Set Collection', 'Simultaneous Action Selection', 'Tile Placement', 'Strategy Games', and 'Wargames'. \n",
    "\n",
    "**Note:** Recall that 'Max Players' and 'Play Time' had extreme outliers. Because of this, I am happy to remove them from the regression model. Interestingly, 'Year Published' also had extreme outliers, but it appears to be a stasitically significant variable, with a p-value of 0."
   ]
  },
  {
   "cell_type": "markdown",
   "id": "30b0f99d",
   "metadata": {},
   "source": [
    "#### Linear Regression Model 2:\n",
    "For this model, I will remove the variables with a p-value above 0.05 from the first model."
   ]
  },
  {
   "cell_type": "code",
   "execution_count": 48,
   "id": "69ca3256",
   "metadata": {},
   "outputs": [
    {
     "name": "stdout",
     "output_type": "stream",
     "text": [
      "                            OLS Regression Results                            \n",
      "==============================================================================\n",
      "Dep. Variable:         Rating Average   R-squared:                       0.363\n",
      "Model:                            OLS   Adj. R-squared:                  0.362\n",
      "Method:                 Least Squares   F-statistic:                     429.3\n",
      "Date:                Tue, 14 Dec 2021   Prob (F-statistic):               0.00\n",
      "Time:                        15:05:59   Log-Likelihood:                -19890.\n",
      "No. Observations:               18102   AIC:                         3.983e+04\n",
      "Df Residuals:                   18077   BIC:                         4.002e+04\n",
      "Df Model:                          24                                         \n",
      "Covariance Type:            nonrobust                                         \n",
      "=============================================================================================\n",
      "                                coef    std err          t      P>|t|      [0.025      0.975]\n",
      "---------------------------------------------------------------------------------------------\n",
      "Year Published                0.0005   5.67e-05      9.088      0.000       0.000       0.001\n",
      "Min Players                  -0.0895      0.009    -10.394      0.000      -0.106      -0.073\n",
      "Min Age                       0.0165      0.002      6.597      0.000       0.012       0.021\n",
      "Complexity Average            0.4558      0.010     46.074      0.000       0.436       0.475\n",
      "Owned Users                1.815e-05   1.07e-06     16.903      0.000     1.6e-05    2.02e-05\n",
      "Area Majority / Influence     0.1148      0.021      5.448      0.000       0.074       0.156\n",
      "Area Movement                -0.1020      0.025     -4.113      0.000      -0.151      -0.053\n",
      "Card Drafting                 0.1206      0.019      6.200      0.000       0.082       0.159\n",
      "Cooperative Game              0.2964      0.022     13.183      0.000       0.252       0.341\n",
      "Dice Rolling                  0.0543      0.014      3.943      0.000       0.027       0.081\n",
      "Grid Movement                 0.0703      0.022      3.179      0.001       0.027       0.114\n",
      "Hand Management               0.0579      0.014      4.096      0.000       0.030       0.086\n",
      "Hexagon Grid                 -0.2288      0.024     -9.715      0.000      -0.275      -0.183\n",
      "Roll / Spin and Move         -0.6446      0.023    -27.849      0.000      -0.690      -0.599\n",
      "Simulation                    0.0755      0.023      3.320      0.001       0.031       0.120\n",
      "Unspecified                  -0.2900      0.022    -13.003      0.000      -0.334      -0.246\n",
      "Variable Player Powers        0.1599      0.018      9.050      0.000       0.125       0.195\n",
      "Abstract Games               -0.1004      0.028     -3.529      0.000      -0.156      -0.045\n",
      "Children's Games             -0.2620      0.033     -8.023      0.000      -0.326      -0.198\n",
      "Customizable Games           -0.3478      0.047     -7.419      0.000      -0.440      -0.256\n",
      "Family Games                  0.0961      0.021      4.516      0.000       0.054       0.138\n",
      "Party Games                   0.1556      0.034      4.565      0.000       0.089       0.222\n",
      "Thematic Games               -0.1225      0.026     -4.756      0.000      -0.173      -0.072\n",
      "Unclassified                 -0.0715      0.018     -3.906      0.000      -0.107      -0.036\n",
      "constant                      4.4766      0.120     37.352      0.000       4.242       4.711\n",
      "==============================================================================\n",
      "Omnibus:                     1023.360   Durbin-Watson:                   1.173\n",
      "Prob(Omnibus):                  0.000   Jarque-Bera (JB):             2386.293\n",
      "Skew:                          -0.356   Prob(JB):                         0.00\n",
      "Kurtosis:                       4.630   Cond. No.                     1.24e+05\n",
      "==============================================================================\n",
      "\n",
      "Notes:\n",
      "[1] Standard Errors assume that the covariance matrix of the errors is correctly specified.\n",
      "[2] The condition number is large, 1.24e+05. This might indicate that there are\n",
      "strong multicollinearity or other numerical problems.\n"
     ]
    }
   ],
   "source": [
    "independent_vars2 = independent_vars.drop(columns=['Max Players', 'Play Time', 'Users Rated', 'Modular Board', 'Set Collection', \n",
    "                                                   'Simultaneous Action Selection', 'Tile Placement', 'Strategy Games', 'Wargames'])\n",
    "\n",
    "lin_reg2 = sm.OLS(dependent_vars, independent_vars2)\n",
    "reg_results = lin_reg2.fit()\n",
    "print(reg_results.summary())"
   ]
  },
  {
   "cell_type": "markdown",
   "id": "0b415727",
   "metadata": {},
   "source": [
    "#### Analysis of the model:\n",
    "- Adjusted R-squared value and Prob (F-statistic) stayed the same as the first model.\n",
    "- All the p-values are 0.001 or lower, within the acceptable level of significance.\n",
    "- According to Note 2, there may be multicollinearity issues, meaning that because of the high number of variables in the model, some variables may be highly correlated with each other."
   ]
  },
  {
   "cell_type": "markdown",
   "id": "6dee2e1c",
   "metadata": {
    "tags": []
   },
   "source": [
    "#### Linear Regression Model 3:\n",
    "This model went through a few tests as I tried removing some variables to see if I could reduce the multicollinearity issues without sacrificing the adjusted R-squared value. First I tried removing 'Children's Games' or 'Min Age' because I thought those would have a strong negative correlation with each other and would also be correlated with 'Complexity Average'. However, removing either of them dropped the R-squared value. Next I tried removing 'Simulation' or 'Grid Movement' because they had the highest p-value in Model 2. Removing either one of them kept the adjusted R-squared value at 0.362, but removing both of them dropped it. I chose to drop 'Grid Movement' because then I could also drop 'Abstract Games' and still retain the same adjusted R-squared value."
   ]
  },
  {
   "cell_type": "code",
   "execution_count": 49,
   "id": "49b1b019",
   "metadata": {},
   "outputs": [
    {
     "name": "stdout",
     "output_type": "stream",
     "text": [
      "                            OLS Regression Results                            \n",
      "==============================================================================\n",
      "Dep. Variable:         Rating Average   R-squared:                       0.362\n",
      "Model:                            OLS   Adj. R-squared:                  0.362\n",
      "Method:                 Least Squares   F-statistic:                     466.9\n",
      "Date:                Tue, 14 Dec 2021   Prob (F-statistic):               0.00\n",
      "Time:                        15:05:59   Log-Likelihood:                -19900.\n",
      "No. Observations:               18102   AIC:                         3.985e+04\n",
      "Df Residuals:                   18079   BIC:                         4.002e+04\n",
      "Df Model:                          22                                         \n",
      "Covariance Type:            nonrobust                                         \n",
      "=============================================================================================\n",
      "                                coef    std err          t      P>|t|      [0.025      0.975]\n",
      "---------------------------------------------------------------------------------------------\n",
      "Year Published                0.0005   5.63e-05      9.532      0.000       0.000       0.001\n",
      "Min Players                  -0.0889      0.009    -10.328      0.000      -0.106      -0.072\n",
      "Min Age                       0.0174      0.002      7.041      0.000       0.013       0.022\n",
      "Complexity Average            0.4598      0.010     46.686      0.000       0.440       0.479\n",
      "Owned Users                1.836e-05   1.07e-06     17.110      0.000    1.63e-05    2.05e-05\n",
      "Area Majority / Influence     0.1174      0.021      5.571      0.000       0.076       0.159\n",
      "Area Movement                -0.1027      0.025     -4.154      0.000      -0.151      -0.054\n",
      "Card Drafting                 0.1224      0.019      6.304      0.000       0.084       0.160\n",
      "Cooperative Game              0.2986      0.022     13.278      0.000       0.255       0.343\n",
      "Dice Rolling                  0.0627      0.014      4.595      0.000       0.036       0.089\n",
      "Hand Management               0.0606      0.014      4.287      0.000       0.033       0.088\n",
      "Hexagon Grid                 -0.2061      0.023     -8.961      0.000      -0.251      -0.161\n",
      "Roll / Spin and Move         -0.6434      0.023    -27.787      0.000      -0.689      -0.598\n",
      "Simulation                    0.0921      0.022      4.103      0.000       0.048       0.136\n",
      "Unspecified                  -0.2923      0.022    -13.102      0.000      -0.336      -0.249\n",
      "Variable Player Powers        0.1649      0.018      9.367      0.000       0.130       0.199\n",
      "Children's Games             -0.2339      0.032     -7.424      0.000      -0.296      -0.172\n",
      "Customizable Games           -0.3274      0.046     -7.042      0.000      -0.419      -0.236\n",
      "Family Games                  0.1149      0.021      5.587      0.000       0.075       0.155\n",
      "Party Games                   0.1752      0.034      5.225      0.000       0.109       0.241\n",
      "Thematic Games               -0.1033      0.025     -4.084      0.000      -0.153      -0.054\n",
      "Unclassified                 -0.0448      0.017     -2.705      0.007      -0.077      -0.012\n",
      "constant                      4.3885      0.116     37.682      0.000       4.160       4.617\n",
      "==============================================================================\n",
      "Omnibus:                     1028.801   Durbin-Watson:                   1.171\n",
      "Prob(Omnibus):                  0.000   Jarque-Bera (JB):             2400.512\n",
      "Skew:                          -0.358   Prob(JB):                         0.00\n",
      "Kurtosis:                       4.634   Cond. No.                     1.20e+05\n",
      "==============================================================================\n",
      "\n",
      "Notes:\n",
      "[1] Standard Errors assume that the covariance matrix of the errors is correctly specified.\n",
      "[2] The condition number is large, 1.2e+05. This might indicate that there are\n",
      "strong multicollinearity or other numerical problems.\n"
     ]
    }
   ],
   "source": [
    "independent_vars3 = independent_vars2.drop(columns=['Grid Movement', 'Abstract Games'])\n",
    "lin_reg3 = sm.OLS(dependent_vars, independent_vars3)\n",
    "reg_results = lin_reg3.fit()\n",
    "print(reg_results.summary())"
   ]
  },
  {
   "cell_type": "markdown",
   "id": "1650ee75-4f86-4920-b1f1-715e3a24e031",
   "metadata": {},
   "source": [
    "#### Analysis of the model:\n",
    "- Adjusted R-squared value and Prob (F-statistic) stayed the same as the first model. The R-squared value dropped slightly to 0.362, but since the adjusted R-squared is the same, I am willing to accept this in order to remove a few more variables.\n",
    "- All the p-values are within the acceptable level of significance (under 0.05).\n",
    "- There is still a large condition number indicating multicollinearity or other numerical problems; however I don't seem to be able to fix this without sacrificing the predictive value of the model."
   ]
  },
  {
   "cell_type": "markdown",
   "id": "64b144f9-5014-4027-98c3-801211149b1a",
   "metadata": {},
   "source": [
    "## Answering the Question"
   ]
  },
  {
   "cell_type": "markdown",
   "id": "e503db48-40ed-401d-8eec-325332bd1a67",
   "metadata": {},
   "source": [
    "### Can we predict a board game's BoardGameGeek rating based on its characteristics?\n",
    "\n",
    "According to the linear regression model, there is a *weak* correlation between the board game charcteristics included in the model and the game's average rating on BoardGameGeek. This means that the predictive power of the model is not very strong but there are some general trends. This is what I was hoping to find. I did not expect a strong correlation because board games have so many different characteristics that make them appealing to different people.\n",
    "\n",
    "### What characteristics influence a board game's BGG rating?\n",
    "\n",
    "The linear regression model used the following independent variables to predict the BGG average rating: \n",
    "\n",
    "Game Characteristics: Year Published, Min Players, Min Age, Complexity Average, Owned Users\n",
    "\n",
    "Game  Mechanics: Area Majority/Influence, Area Movement, Card Drafting, Cooperative Game, Dice Rolling, Hand Management, Hexagon Grid, Roll/Spin and Move, Simulation, Unspecified Mechanics\n",
    "\n",
    "Game Domains: Variable Player Powers, Children's Games, Customizable Games, Family Games, Party Games, Thematic Games, Unclassified Games\n",
    "\n",
    "### Complexity Rating\n",
    "The variable that has the highest positive coefficient in the linear regression model is the Complexity Average. This means that the higher the complexity rating, the more likely the game is to have a higher BGG rating. Complexity Average also had the highest correlation with the BGG Rating in the correlation matrix. It doesn't surprise me that BoardGameGeek members tend to like more complex games. I expect that most people who like board games enough to join an online board game community would be experienced board gamers who prefer complex games over simple ones.\n",
    "\n",
    "Here is a scatterplot showing the relationship between the BGG Rating and the Complexity Rating of games, showing the positive correlation between the two measures."
   ]
  },
  {
   "cell_type": "code",
   "execution_count": 50,
   "id": "705185b1-82bf-4ed0-8546-ce5b4c030adf",
   "metadata": {},
   "outputs": [
    {
     "data": {
      "text/plain": [
       "Text(0.5, 1.0, 'BGG Rating vs Complexity Rating')"
      ]
     },
     "execution_count": 50,
     "metadata": {},
     "output_type": "execute_result"
    },
    {
     "data": {
      "image/png": "[encoded data removed]",
      "text/plain": [
       "<Figure size 1080x576 with 1 Axes>"
      ]
     },
     "metadata": {
      "needs_background": "light"
     },
     "output_type": "display_data"
    }
   ],
   "source": [
    "plt.figure(figsize=(15,8))\n",
    "scatterplot1 = sns.scatterplot(data=regression_data, x='Complexity Average', y='Rating Average', alpha=0.6, color='#701f57')\n",
    "scatterplot1.set_title('BGG Rating vs Complexity Rating')"
   ]
  },
  {
   "cell_type": "markdown",
   "id": "c236fbd2-8cc5-4db6-ac1f-28a28ffb1dc4",
   "metadata": {},
   "source": [
    "### Roll/Spin and Move\n",
    "The variable that has the lowest negative coefficient in the linear regression model is the game mechanic Roll/Spin and Move. Roll/Spin and Move also had the highest negative correlation with the BGG Rating in the correlation matrix. This means that games with this mechanic tend to be rated lower than games that do not have it. This may be due to the fact that games where you roll dice or spin a spinner to move around a board tend to be more basic games.\n",
    "\n",
    "Here is a bar graph showing the average BGG rating for games that have the Roll/Spin and Move mechanic and games that don't. The average BGG rating for games without the Roll/Spin and Move mechanic is about one full point higher than for games with this mechanic. This seems fairly significant on a scale of 1-10."
   ]
  },
  {
   "cell_type": "code",
   "execution_count": 51,
   "id": "7c237a51-2dfa-4282-a2f2-56e9775259e5",
   "metadata": {},
   "outputs": [
    {
     "data": {
      "text/plain": [
       "Text(0.5, 1.0, 'Average BGG Rating for Games With and Without a Roll/Spin and Move Mechanic')"
      ]
     },
     "execution_count": 51,
     "metadata": {},
     "output_type": "execute_result"
    },
    {
     "data": {
      "image/png": "[encoded data removed]",
      "text/plain": [
       "<Figure size 288x432 with 1 Axes>"
      ]
     },
     "metadata": {
      "needs_background": "light"
     },
     "output_type": "display_data"
    }
   ],
   "source": [
    "plt.figure(figsize=(4,6))\n",
    "barplot1 = sns.barplot(data=regression_data, x='Roll / Spin and Move', y='Rating Average', palette='rocket')\n",
    "barplot1.set_title('Average BGG Rating for Games With and Without a Roll/Spin and Move Mechanic')"
   ]
  },
  {
   "cell_type": "markdown",
   "id": "135e5b84",
   "metadata": {},
   "source": [
    "### Ranking the Game Domains by BGG Rating"
   ]
  },
  {
   "cell_type": "markdown",
   "id": "940dbeda-6c3a-4cab-ac51-434ec08ce328",
   "metadata": {
    "tags": []
   },
   "source": [
    "Finally, I'm interested in seeing how the different game domains relate to the BGG rating. First I need to create a dataframe showing the BGG rating of every game within each domain."
   ]
  },
  {
   "cell_type": "code",
   "execution_count": 52,
   "id": "02a98482-0a93-41da-bc3d-6cd17858a3a2",
   "metadata": {
    "tags": []
   },
   "outputs": [
    {
     "data": {
      "text/html": [
       "<div>\n",
       "<style scoped>\n",
       "    .dataframe tbody tr th:only-of-type {\n",
       "        vertical-align: middle;\n",
       "    }\n",
       "\n",
       "    .dataframe tbody tr th {\n",
       "        vertical-align: top;\n",
       "    }\n",
       "\n",
       "    .dataframe thead th {\n",
       "        text-align: right;\n",
       "    }\n",
       "</style>\n",
       "<table border=\"1\" class=\"dataframe\">\n",
       "  <thead>\n",
       "    <tr style=\"text-align: right;\">\n",
       "      <th></th>\n",
       "      <th>Domain</th>\n",
       "      <th>BGG Rating</th>\n",
       "    </tr>\n",
       "  </thead>\n",
       "  <tbody>\n",
       "    <tr>\n",
       "      <th>0</th>\n",
       "      <td>Strategy Games</td>\n",
       "      <td>8.79</td>\n",
       "    </tr>\n",
       "    <tr>\n",
       "      <th>1</th>\n",
       "      <td>Strategy Games</td>\n",
       "      <td>8.61</td>\n",
       "    </tr>\n",
       "    <tr>\n",
       "      <th>2</th>\n",
       "      <td>Strategy Games</td>\n",
       "      <td>8.66</td>\n",
       "    </tr>\n",
       "    <tr>\n",
       "      <th>3</th>\n",
       "      <td>Strategy Games</td>\n",
       "      <td>8.43</td>\n",
       "    </tr>\n",
       "    <tr>\n",
       "      <th>4</th>\n",
       "      <td>Strategy Games</td>\n",
       "      <td>8.70</td>\n",
       "    </tr>\n",
       "    <tr>\n",
       "      <th>...</th>\n",
       "      <td>...</td>\n",
       "      <td>...</td>\n",
       "    </tr>\n",
       "    <tr>\n",
       "      <th>18094</th>\n",
       "      <td>Children's Games</td>\n",
       "      <td>3.42</td>\n",
       "    </tr>\n",
       "    <tr>\n",
       "      <th>18097</th>\n",
       "      <td>Children's Games</td>\n",
       "      <td>3.79</td>\n",
       "    </tr>\n",
       "    <tr>\n",
       "      <th>18099</th>\n",
       "      <td>Children's Games</td>\n",
       "      <td>3.18</td>\n",
       "    </tr>\n",
       "    <tr>\n",
       "      <th>18100</th>\n",
       "      <td>Children's Games</td>\n",
       "      <td>2.86</td>\n",
       "    </tr>\n",
       "    <tr>\n",
       "      <th>18101</th>\n",
       "      <td>Children's Games</td>\n",
       "      <td>2.68</td>\n",
       "    </tr>\n",
       "  </tbody>\n",
       "</table>\n",
       "<p>19565 rows × 2 columns</p>\n",
       "</div>"
      ],
      "text/plain": [
       "                 Domain  BGG Rating\n",
       "0        Strategy Games        8.79\n",
       "1        Strategy Games        8.61\n",
       "2        Strategy Games        8.66\n",
       "3        Strategy Games        8.43\n",
       "4        Strategy Games        8.70\n",
       "...                 ...         ...\n",
       "18094  Children's Games        3.42\n",
       "18097  Children's Games        3.79\n",
       "18099  Children's Games        3.18\n",
       "18100  Children's Games        2.86\n",
       "18101  Children's Games        2.68\n",
       "\n",
       "[19565 rows x 2 columns]"
      ]
     },
     "execution_count": 52,
     "metadata": {},
     "output_type": "execute_result"
    }
   ],
   "source": [
    "# Create a dataframe showing ratings of abstract games\n",
    "# Get only the rows with the domain 'Abstract Games'\n",
    "df_abst = df_final[df_final['Abstract Games'] == 1]\n",
    "# Use only the columns 'Abstract Games' and 'Rating Average'\n",
    "df_abst = df_abst[['Abstract Games', 'Rating Average']]\n",
    "# Replace all the 1s in the column 'Abstract Games' with the string 'Abstract Games'\n",
    "df_abst['Abstract Games'] = 'Abstract Games'\n",
    "# Rename the columns\n",
    "df_abst.columns = ['Domain', 'BGG Rating']\n",
    "\n",
    "# Create a dataframe showing ratings of children's games: same process as above\n",
    "df_child = df_final[df_final[\"Children's Games\"] == 1]\n",
    "df_child = df_child[[\"Children's Games\", 'Rating Average']]\n",
    "df_child[\"Children's Games\"] = \"Children's Games\"\n",
    "df_child.columns = ['Domain', 'BGG Rating']\n",
    "\n",
    "# Create a dataframe showing ratings of customizable games\n",
    "df_custom = df_final[df_final['Customizable Games'] == 1]\n",
    "df_custom = df_custom[['Customizable Games', 'Rating Average']]\n",
    "df_custom['Customizable Games'] = 'Customizable Games'\n",
    "df_custom.columns = ['Domain', 'BGG Rating']\n",
    "\n",
    "# Create a dataframe showing ratings of family games\n",
    "df_fam = df_final[df_final['Family Games'] == 1]\n",
    "df_fam = df_fam[['Family Games', 'Rating Average']]\n",
    "df_fam['Family Games'] = 'Family Games'\n",
    "df_fam.columns = ['Domain', 'BGG Rating']\n",
    "\n",
    "# Create a dataframe showing ratings of party games\n",
    "df_party = df_final[df_final['Party Games'] == 1]\n",
    "df_party = df_party[['Party Games', 'Rating Average']]\n",
    "df_party['Party Games'] = 'Party Games'\n",
    "df_party.columns = ['Domain', 'BGG Rating']\n",
    "\n",
    "# Create a dataframe showing ratings of strategy games\n",
    "df_strat = df_final[df_final['Strategy Games'] == 1]\n",
    "df_strat = df_strat[['Strategy Games', 'Rating Average']]\n",
    "df_strat['Strategy Games'] = 'Strategy Games'\n",
    "df_strat.columns = ['Domain', 'BGG Rating']\n",
    "\n",
    "# Create a dataframe showing ratings of thematic games\n",
    "df_theme = df_final[df_final['Thematic Games'] == 1]\n",
    "df_theme = df_theme[['Thematic Games', 'Rating Average']]\n",
    "df_theme['Thematic Games'] = 'Thematic Games'\n",
    "df_theme.columns = ['Domain', 'BGG Rating']\n",
    "\n",
    "# Create a dataframe showing ratings of unclassified games\n",
    "df_unclass = df_final[df_final['Unclassified'] == 1]\n",
    "df_unclass = df_unclass[['Unclassified', 'Rating Average']]\n",
    "df_unclass['Unclassified'] = 'Unclassified'\n",
    "df_unclass.columns = ['Domain', 'BGG Rating']\n",
    "\n",
    "# Create a dataframe showing ratings of wargames\n",
    "df_war = df_final[df_final['Wargames'] == 1]\n",
    "df_war = df_war[['Wargames', 'Rating Average']]\n",
    "df_war['Wargames'] = 'Wargames'\n",
    "df_war.columns = ['Domain', 'BGG Rating']\n",
    "\n",
    "# Concatenate the frames to create the full dataframe\n",
    "df_rating_by_dom = pd.concat([df_strat, df_war, df_theme, df_fam, df_custom, df_party, df_abst, df_unclass, df_child], axis=0)\n",
    "df_rating_by_dom"
   ]
  },
  {
   "cell_type": "markdown",
   "id": "cfbd5cce-c33d-4bbc-b298-339f54ec62e4",
   "metadata": {},
   "source": [
    "**Note:** Some games have more than one domain, that's why there are more rows in this dataframe than in df_final.\n",
    "\n",
    "This violin plot shows the distribution of Rating Average among each game domain."
   ]
  },
  {
   "cell_type": "code",
   "execution_count": 53,
   "id": "bd2d4410",
   "metadata": {},
   "outputs": [
    {
     "data": {
      "text/plain": [
       "Text(0.5, 1.0, 'BGG Rating by Game Domains')"
      ]
     },
     "execution_count": 53,
     "metadata": {},
     "output_type": "execute_result"
    },
    {
     "data": {
      "image/png": "[encoded data removed]",
      "text/plain": [
       "<Figure size 864x648 with 1 Axes>"
      ]
     },
     "metadata": {
      "needs_background": "light"
     },
     "output_type": "display_data"
    }
   ],
   "source": [
    "# Create a violinplot of BGG ratings broken out by game domains\n",
    "plt.figure(figsize=(12,9))\n",
    "dom_rating_chart = sns.violinplot(data=df_rating_by_dom, y='Domain', x='BGG Rating', palette='flare_r', linewidth=2)\n",
    "dom_rating_chart.set_title('BGG Rating by Game Domains')"
   ]
  },
  {
   "cell_type": "markdown",
   "id": "347eb745-b695-4806-b2cc-c280309cd223",
   "metadata": {},
   "source": [
    "**Observations from the violin plot:**\n",
    "- The game domains are arranged top to bottom from highest median BGG rating to lowest. The most highly-rated domain is Strategy Games and the lowest is Children's Games. This is unsurprising since I imagine that few BGG members are children. Strategy games tend to be more complex and children's games less complex, so this follows the patterns I observed about BGG members prefering complex games.\n",
    "- As you can see from the thickness of the plots, most of the strategy games and family games have BGG ratings that are close to the median. These domains have the most normal distribution of BGG ratings.\n",
    "- In the Party Games domain, the most common BGG rating is above the median, but there is a much longer long tail to the left than the right, showing that there are outliers with low ratings in this domain.\n",
    "- Games that are unclassified have the widest spread of BGG ratings. I'm not surprised to see the low outliers in this category since unclassified games are generally probably less popular. I am surprised to see the long tail to the right, indicating some very high ratings for unclassified games."
   ]
  },
  {
   "cell_type": "markdown",
   "id": "5ef3bd39-28d6-4978-83fb-8dfd21014d87",
   "metadata": {},
   "source": [
    "### Recommendations\n",
    "For game creators and publishers looking to release the next hot board game among serious board gamers, I suggest the following based on this analysis:\n",
    "- Create a game that has a fairly high level of complexity. Serious board gamers like to be challenged.\n",
    "- Strategy games and wargames top the list of game domains. Also consider basing the game around a strong narrative theme.\n",
    "- Incorporate game mechanics that are more creative than moving around a board based on the result of a spin or dice roll."
   ]
  },
  {
   "cell_type": "code",
   "execution_count": null,
   "id": "42503c83-321b-41de-bae9-5cdae2251cc6",
   "metadata": {},
   "outputs": [],
   "source": []
  }
 ],
 "metadata": {
  "kernelspec": {
   "display_name": "Python 3",
   "language": "python",
   "name": "python3"
  },
  "language_info": {
   "codemirror_mode": {
    "name": "ipython",
    "version": 3
   },
   "file_extension": ".py",
   "mimetype": "text/x-python",
   "name": "python",
   "nbconvert_exporter": "python",
   "pygments_lexer": "ipython3",
   "version": "3.8.8"
  },
  "varInspector": {
   "cols": {
    "lenName": 16,
    "lenType": 16,
    "lenVar": 40
   },
   "kernels_config": {
    "python": {
     "delete_cmd_postfix": "",
     "delete_cmd_prefix": "del ",
     "library": "var_list.py",
     "varRefreshCmd": "print(var_dic_list())"
    },
    "r": {
     "delete_cmd_postfix": ") ",
     "delete_cmd_prefix": "rm(",
     "library": "var_list.r",
     "varRefreshCmd": "cat(var_dic_list()) "
    }
   },
   "types_to_exclude": [
    "module",
    "function",
    "builtin_function_or_method",
    "instance",
    "_Feature"
   ],
   "window_display": false
  }
 },
 "nbformat": 4,
 "nbformat_minor": 5
}
